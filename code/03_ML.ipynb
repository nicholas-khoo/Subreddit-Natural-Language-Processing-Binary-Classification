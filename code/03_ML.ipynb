{
 "cells": [
  {
   "cell_type": "markdown",
   "id": "a5cb2578-7a83-4e2b-8fe2-abe10a14cb43",
   "metadata": {},
   "source": [
    "# Load libraries"
   ]
  },
  {
   "cell_type": "code",
   "execution_count": 10,
   "id": "b03c7eb3-997b-40b4-9c36-f41184bf309f",
   "metadata": {},
   "outputs": [],
   "source": [
    "import pandas as pd\n",
    "import numpy as np\n",
    "from sklearn.model_selection import train_test_split, cross_val_score, GridSearchCV\n",
    "from sklearn.feature_extraction.text import TfidfVectorizer\n",
    "from sklearn.naive_bayes import MultinomialNB\n",
    "from sklearn.linear_model import LogisticRegression\n",
    "from sklearn.metrics import accuracy_score, precision_score, recall_score, f1_score, confusion_matrix, roc_curve, auc\n",
    "import seaborn as sns\n",
    "import matplotlib.pyplot as plt\n",
    "import itertools\n",
    "from sklearn.metrics import plot_roc_curve\n",
    "import re\n",
    "import nltk\n",
    "from nltk.stem import WordNetLemmatizer\n",
    "from nltk.corpus import stopwords\n",
    "from sklearn.dummy import DummyClassifier"
   ]
  },
  {
   "cell_type": "markdown",
   "id": "5ccddc79-b3b5-42e4-8a60-55e754a46b72",
   "metadata": {},
   "source": [
    "___"
   ]
  },
  {
   "cell_type": "markdown",
   "id": "fd200393-c6ff-46ac-a48e-b2d35c3a2d77",
   "metadata": {},
   "source": [
    "# Import data"
   ]
  },
  {
   "cell_type": "markdown",
   "id": "b7ff3b9a-eb14-4110-9b14-102cd1dc70fc",
   "metadata": {},
   "source": [
    "To check for class imbalances"
   ]
  },
  {
   "cell_type": "code",
   "execution_count": 11,
   "id": "783c5d98-a501-41a4-b590-60a410662142",
   "metadata": {},
   "outputs": [],
   "source": [
    "# load data\n",
    "df_ml = pd.read_csv('../datasets/ML.csv')"
   ]
  },
  {
   "cell_type": "code",
   "execution_count": 12,
   "id": "e5faf8fe-b15c-4f29-af59-c25e02dad5a9",
   "metadata": {},
   "outputs": [
    {
     "name": "stdout",
     "output_type": "stream",
     "text": [
      "Number of depression examples: 1964\n",
      "Number of anxiety examples: 1994\n"
     ]
    }
   ],
   "source": [
    "# count samples within each class\n",
    "num_depression = df_ml['is_depression'].sum()\n",
    "num_anxiety = len(df_ml) - num_depression\n",
    "\n",
    "# print counts\n",
    "print(f\"Number of depression examples: {num_depression}\")\n",
    "print(f\"Number of anxiety examples: {num_anxiety}\")"
   ]
  },
  {
   "cell_type": "markdown",
   "id": "07ec97d0-d239-43a2-9fa3-88ca4b5708ab",
   "metadata": {},
   "source": [
    "The number of depression examples (1964) and anxiety examples (1994) are relatively close, so it is not a severe class imbalance. "
   ]
  },
  {
   "cell_type": "code",
   "execution_count": 13,
   "id": "2706eefe-d725-45b5-83c3-eb8570a2671f",
   "metadata": {},
   "outputs": [
    {
     "data": {
      "text/plain": [
       "Index(['id', 'created_utc', 'title', 'is_self', 'selftext', 'score',\n",
       "       'upvote_ratio', 'num_comments', 'permalink', 'author', 'distinguished',\n",
       "       'post_length', 'title_selftext_comb', 'title_selftext_comb_clean',\n",
       "       'title_selftext_comb_clean_lem', 'selftext_clean', 'sentiment',\n",
       "       'is_depression'],\n",
       "      dtype='object')"
      ]
     },
     "execution_count": 13,
     "metadata": {},
     "output_type": "execute_result"
    }
   ],
   "source": [
    "# check columns\n",
    "df_ml.columns"
   ]
  },
  {
   "cell_type": "markdown",
   "id": "b1d43a1c-a180-4efb-bc6c-d6435671ce9b",
   "metadata": {},
   "source": [
    "___"
   ]
  },
  {
   "cell_type": "markdown",
   "id": "153cbabf-da46-4c47-9daf-e2c175f77e9f",
   "metadata": {},
   "source": [
    "# Commence machine learning"
   ]
  },
  {
   "cell_type": "markdown",
   "id": "358d718b-a6c9-429b-8a63-b87a74d80c30",
   "metadata": {},
   "source": [
    "## Set a baseline comparison"
   ]
  },
  {
   "cell_type": "markdown",
   "id": "40c21d48-591e-44ed-9a02-a4c4a7241949",
   "metadata": {},
   "source": [
    "- Baseline comparison is set to provide a benchmark for evaluating the performance of the model. If the model does not outperform the baseline, the approach or data has to be re-evaluated.\n",
    "- Baseline accuracy can be calculated by always predicting the majority class in the dataset. Reason being is that it represents the performance of a naive model that does not learn anything from the data.\n",
    "- If the model cannot outperform the naive baseline, then it is not learning anything useful from the data."
   ]
  },
  {
   "cell_type": "code",
   "execution_count": 14,
   "id": "bf2c456a-7d5f-4dc0-8dfb-9841d754a0f1",
   "metadata": {},
   "outputs": [],
   "source": [
    "# calculate the percentage of \"depression\" posts\n",
    "depression_pct = df_ml[\"is_depression\"].mean() * 100"
   ]
  },
  {
   "cell_type": "code",
   "execution_count": 15,
   "id": "33396333-6ca0-4aec-b573-b0ace7ef7bc6",
   "metadata": {},
   "outputs": [],
   "source": [
    "# calculate the percentage of \"anxiety\" posts\n",
    "anxiety_pct = 100 - depression_pct"
   ]
  },
  {
   "cell_type": "code",
   "execution_count": 16,
   "id": "14152784-416e-484b-be21-09bcd06e8a36",
   "metadata": {},
   "outputs": [],
   "source": [
    "# set majority class as baseline (e.g. always predict the majority class)\n",
    "if depression_pct > anxiety_pct:\n",
    "    baseline = depression_pct\n",
    "else:\n",
    "    baseline = anxiety_pct"
   ]
  },
  {
   "cell_type": "code",
   "execution_count": 17,
   "id": "29885e3b-af62-4e5c-be6d-2a2350827226",
   "metadata": {},
   "outputs": [
    {
     "name": "stdout",
     "output_type": "stream",
     "text": [
      "Baseline accuracy: 50.38%\n"
     ]
    }
   ],
   "source": [
    "print(f\"Baseline accuracy: {baseline:.2f}%\")"
   ]
  },
  {
   "cell_type": "markdown",
   "id": "bbe030f8-1e14-4eaf-abec-3bd409d387ff",
   "metadata": {},
   "source": [
    "## Model training and scoring"
   ]
  },
  {
   "cell_type": "code",
   "execution_count": 18,
   "id": "1e708d83-d58b-4e1a-a0a2-b72fed79b30a",
   "metadata": {},
   "outputs": [],
   "source": [
    "# train,test,split\n",
    "X_train, X_test, y_train, y_test = train_test_split(df_ml['title_selftext_comb_clean_lem'], df_ml['is_depression'], test_size=0.2, random_state=42)"
   ]
  },
  {
   "cell_type": "markdown",
   "id": "34f8db59-e947-417c-8da4-a97ad4649d63",
   "metadata": {},
   "source": [
    "- Vectorizer is a tool that helps computers process text by turning it into a numerical form.\n",
    "- TF-IDF is a way to give more weight to important and less common words in a text document, while giving less weight to common words. \n",
    "- The TF-IDF vectorizer uses this method to turn text into numbers."
   ]
  },
  {
   "cell_type": "code",
   "execution_count": 19,
   "id": "d7fd3988-77cd-4b85-8c0e-1c5d8af34a90",
   "metadata": {},
   "outputs": [],
   "source": [
    "# vectorize using TfidfVectorizer the text data using TfidfVectorizer\n",
    "vectorizer = TfidfVectorizer()\n",
    "X_train_vect = vectorizer.fit_transform(X_train)\n",
    "X_test_vect = vectorizer.transform(X_test)"
   ]
  },
  {
   "cell_type": "markdown",
   "id": "c7859a9e-566e-4a66-8710-2985ffa4eb10",
   "metadata": {},
   "source": [
    "- MultinomialNB (Naive Bayes) is a type of algorithm used in machine learning for text classification tasks.\n",
    "- Based on the Bayes theorem and assumes that each feature is independent of the others.\n",
    "- Algorithm counts the frequency of words in each category, then uses these frequencies to predict which category a new text belongs to. "
   ]
  },
  {
   "cell_type": "code",
   "execution_count": 20,
   "id": "c3ec9c25-a447-46eb-b504-0f2e2ceeac36",
   "metadata": {},
   "outputs": [
    {
     "data": {
      "text/html": [
       "<style>#sk-container-id-1 {color: black;background-color: white;}#sk-container-id-1 pre{padding: 0;}#sk-container-id-1 div.sk-toggleable {background-color: white;}#sk-container-id-1 label.sk-toggleable__label {cursor: pointer;display: block;width: 100%;margin-bottom: 0;padding: 0.3em;box-sizing: border-box;text-align: center;}#sk-container-id-1 label.sk-toggleable__label-arrow:before {content: \"▸\";float: left;margin-right: 0.25em;color: #696969;}#sk-container-id-1 label.sk-toggleable__label-arrow:hover:before {color: black;}#sk-container-id-1 div.sk-estimator:hover label.sk-toggleable__label-arrow:before {color: black;}#sk-container-id-1 div.sk-toggleable__content {max-height: 0;max-width: 0;overflow: hidden;text-align: left;background-color: #f0f8ff;}#sk-container-id-1 div.sk-toggleable__content pre {margin: 0.2em;color: black;border-radius: 0.25em;background-color: #f0f8ff;}#sk-container-id-1 input.sk-toggleable__control:checked~div.sk-toggleable__content {max-height: 200px;max-width: 100%;overflow: auto;}#sk-container-id-1 input.sk-toggleable__control:checked~label.sk-toggleable__label-arrow:before {content: \"▾\";}#sk-container-id-1 div.sk-estimator input.sk-toggleable__control:checked~label.sk-toggleable__label {background-color: #d4ebff;}#sk-container-id-1 div.sk-label input.sk-toggleable__control:checked~label.sk-toggleable__label {background-color: #d4ebff;}#sk-container-id-1 input.sk-hidden--visually {border: 0;clip: rect(1px 1px 1px 1px);clip: rect(1px, 1px, 1px, 1px);height: 1px;margin: -1px;overflow: hidden;padding: 0;position: absolute;width: 1px;}#sk-container-id-1 div.sk-estimator {font-family: monospace;background-color: #f0f8ff;border: 1px dotted black;border-radius: 0.25em;box-sizing: border-box;margin-bottom: 0.5em;}#sk-container-id-1 div.sk-estimator:hover {background-color: #d4ebff;}#sk-container-id-1 div.sk-parallel-item::after {content: \"\";width: 100%;border-bottom: 1px solid gray;flex-grow: 1;}#sk-container-id-1 div.sk-label:hover label.sk-toggleable__label {background-color: #d4ebff;}#sk-container-id-1 div.sk-serial::before {content: \"\";position: absolute;border-left: 1px solid gray;box-sizing: border-box;top: 0;bottom: 0;left: 50%;z-index: 0;}#sk-container-id-1 div.sk-serial {display: flex;flex-direction: column;align-items: center;background-color: white;padding-right: 0.2em;padding-left: 0.2em;position: relative;}#sk-container-id-1 div.sk-item {position: relative;z-index: 1;}#sk-container-id-1 div.sk-parallel {display: flex;align-items: stretch;justify-content: center;background-color: white;position: relative;}#sk-container-id-1 div.sk-item::before, #sk-container-id-1 div.sk-parallel-item::before {content: \"\";position: absolute;border-left: 1px solid gray;box-sizing: border-box;top: 0;bottom: 0;left: 50%;z-index: -1;}#sk-container-id-1 div.sk-parallel-item {display: flex;flex-direction: column;z-index: 1;position: relative;background-color: white;}#sk-container-id-1 div.sk-parallel-item:first-child::after {align-self: flex-end;width: 50%;}#sk-container-id-1 div.sk-parallel-item:last-child::after {align-self: flex-start;width: 50%;}#sk-container-id-1 div.sk-parallel-item:only-child::after {width: 0;}#sk-container-id-1 div.sk-dashed-wrapped {border: 1px dashed gray;margin: 0 0.4em 0.5em 0.4em;box-sizing: border-box;padding-bottom: 0.4em;background-color: white;}#sk-container-id-1 div.sk-label label {font-family: monospace;font-weight: bold;display: inline-block;line-height: 1.2em;}#sk-container-id-1 div.sk-label-container {text-align: center;}#sk-container-id-1 div.sk-container {/* jupyter's `normalize.less` sets `[hidden] { display: none; }` but bootstrap.min.css set `[hidden] { display: none !important; }` so we also need the `!important` here to be able to override the default hidden behavior on the sphinx rendered scikit-learn.org. See: https://github.com/scikit-learn/scikit-learn/issues/21755 */display: inline-block !important;position: relative;}#sk-container-id-1 div.sk-text-repr-fallback {display: none;}</style><div id=\"sk-container-id-1\" class=\"sk-top-container\"><div class=\"sk-text-repr-fallback\"><pre>MultinomialNB()</pre><b>In a Jupyter environment, please rerun this cell to show the HTML representation or trust the notebook. <br />On GitHub, the HTML representation is unable to render, please try loading this page with nbviewer.org.</b></div><div class=\"sk-container\" hidden><div class=\"sk-item\"><div class=\"sk-estimator sk-toggleable\"><input class=\"sk-toggleable__control sk-hidden--visually\" id=\"sk-estimator-id-1\" type=\"checkbox\" checked><label for=\"sk-estimator-id-1\" class=\"sk-toggleable__label sk-toggleable__label-arrow\">MultinomialNB</label><div class=\"sk-toggleable__content\"><pre>MultinomialNB()</pre></div></div></div></div></div>"
      ],
      "text/plain": [
       "MultinomialNB()"
      ]
     },
     "execution_count": 20,
     "metadata": {},
     "output_type": "execute_result"
    }
   ],
   "source": [
    "# Train the Naive Bayes classifier\n",
    "nb_clf = MultinomialNB()\n",
    "nb_scores = cross_val_score(nb_clf, X_train_vect, y_train, cv=5)\n",
    "nb_clf.fit(X_train_vect, y_train)"
   ]
  },
  {
   "cell_type": "markdown",
   "id": "63a7ddbd-504b-44b8-92dc-94cba4d37add",
   "metadata": {},
   "source": [
    "- Logistic regression is an algorithm used in machine learning for classification tasks.\n",
    "- Statistical method that estimates the probability of a binary or categorical outcome based on one or more independent variables.\n",
    "- It tries to find the relationship between the input variables and the output variable by fitting a logistic function to the data."
   ]
  },
  {
   "cell_type": "code",
   "execution_count": 21,
   "id": "c12612b2-d5d0-4770-b731-87f230c075cc",
   "metadata": {},
   "outputs": [
    {
     "data": {
      "text/html": [
       "<style>#sk-container-id-2 {color: black;background-color: white;}#sk-container-id-2 pre{padding: 0;}#sk-container-id-2 div.sk-toggleable {background-color: white;}#sk-container-id-2 label.sk-toggleable__label {cursor: pointer;display: block;width: 100%;margin-bottom: 0;padding: 0.3em;box-sizing: border-box;text-align: center;}#sk-container-id-2 label.sk-toggleable__label-arrow:before {content: \"▸\";float: left;margin-right: 0.25em;color: #696969;}#sk-container-id-2 label.sk-toggleable__label-arrow:hover:before {color: black;}#sk-container-id-2 div.sk-estimator:hover label.sk-toggleable__label-arrow:before {color: black;}#sk-container-id-2 div.sk-toggleable__content {max-height: 0;max-width: 0;overflow: hidden;text-align: left;background-color: #f0f8ff;}#sk-container-id-2 div.sk-toggleable__content pre {margin: 0.2em;color: black;border-radius: 0.25em;background-color: #f0f8ff;}#sk-container-id-2 input.sk-toggleable__control:checked~div.sk-toggleable__content {max-height: 200px;max-width: 100%;overflow: auto;}#sk-container-id-2 input.sk-toggleable__control:checked~label.sk-toggleable__label-arrow:before {content: \"▾\";}#sk-container-id-2 div.sk-estimator input.sk-toggleable__control:checked~label.sk-toggleable__label {background-color: #d4ebff;}#sk-container-id-2 div.sk-label input.sk-toggleable__control:checked~label.sk-toggleable__label {background-color: #d4ebff;}#sk-container-id-2 input.sk-hidden--visually {border: 0;clip: rect(1px 1px 1px 1px);clip: rect(1px, 1px, 1px, 1px);height: 1px;margin: -1px;overflow: hidden;padding: 0;position: absolute;width: 1px;}#sk-container-id-2 div.sk-estimator {font-family: monospace;background-color: #f0f8ff;border: 1px dotted black;border-radius: 0.25em;box-sizing: border-box;margin-bottom: 0.5em;}#sk-container-id-2 div.sk-estimator:hover {background-color: #d4ebff;}#sk-container-id-2 div.sk-parallel-item::after {content: \"\";width: 100%;border-bottom: 1px solid gray;flex-grow: 1;}#sk-container-id-2 div.sk-label:hover label.sk-toggleable__label {background-color: #d4ebff;}#sk-container-id-2 div.sk-serial::before {content: \"\";position: absolute;border-left: 1px solid gray;box-sizing: border-box;top: 0;bottom: 0;left: 50%;z-index: 0;}#sk-container-id-2 div.sk-serial {display: flex;flex-direction: column;align-items: center;background-color: white;padding-right: 0.2em;padding-left: 0.2em;position: relative;}#sk-container-id-2 div.sk-item {position: relative;z-index: 1;}#sk-container-id-2 div.sk-parallel {display: flex;align-items: stretch;justify-content: center;background-color: white;position: relative;}#sk-container-id-2 div.sk-item::before, #sk-container-id-2 div.sk-parallel-item::before {content: \"\";position: absolute;border-left: 1px solid gray;box-sizing: border-box;top: 0;bottom: 0;left: 50%;z-index: -1;}#sk-container-id-2 div.sk-parallel-item {display: flex;flex-direction: column;z-index: 1;position: relative;background-color: white;}#sk-container-id-2 div.sk-parallel-item:first-child::after {align-self: flex-end;width: 50%;}#sk-container-id-2 div.sk-parallel-item:last-child::after {align-self: flex-start;width: 50%;}#sk-container-id-2 div.sk-parallel-item:only-child::after {width: 0;}#sk-container-id-2 div.sk-dashed-wrapped {border: 1px dashed gray;margin: 0 0.4em 0.5em 0.4em;box-sizing: border-box;padding-bottom: 0.4em;background-color: white;}#sk-container-id-2 div.sk-label label {font-family: monospace;font-weight: bold;display: inline-block;line-height: 1.2em;}#sk-container-id-2 div.sk-label-container {text-align: center;}#sk-container-id-2 div.sk-container {/* jupyter's `normalize.less` sets `[hidden] { display: none; }` but bootstrap.min.css set `[hidden] { display: none !important; }` so we also need the `!important` here to be able to override the default hidden behavior on the sphinx rendered scikit-learn.org. See: https://github.com/scikit-learn/scikit-learn/issues/21755 */display: inline-block !important;position: relative;}#sk-container-id-2 div.sk-text-repr-fallback {display: none;}</style><div id=\"sk-container-id-2\" class=\"sk-top-container\"><div class=\"sk-text-repr-fallback\"><pre>LogisticRegression(max_iter=1000)</pre><b>In a Jupyter environment, please rerun this cell to show the HTML representation or trust the notebook. <br />On GitHub, the HTML representation is unable to render, please try loading this page with nbviewer.org.</b></div><div class=\"sk-container\" hidden><div class=\"sk-item\"><div class=\"sk-estimator sk-toggleable\"><input class=\"sk-toggleable__control sk-hidden--visually\" id=\"sk-estimator-id-2\" type=\"checkbox\" checked><label for=\"sk-estimator-id-2\" class=\"sk-toggleable__label sk-toggleable__label-arrow\">LogisticRegression</label><div class=\"sk-toggleable__content\"><pre>LogisticRegression(max_iter=1000)</pre></div></div></div></div></div>"
      ],
      "text/plain": [
       "LogisticRegression(max_iter=1000)"
      ]
     },
     "execution_count": 21,
     "metadata": {},
     "output_type": "execute_result"
    }
   ],
   "source": [
    "# Train the logistic regression classifier\n",
    "lr_clf = LogisticRegression(max_iter=1000)\n",
    "lr_scores = cross_val_score(lr_clf, X_train_vect, y_train, cv=5)\n",
    "lr_clf.fit(X_train_vect, y_train)"
   ]
  },
  {
   "cell_type": "markdown",
   "id": "1f9bdf24-3fca-422d-81ab-0e50f2b9dd49",
   "metadata": {},
   "source": [
    "- Cross-validation evaluates the performance of a model on an independent data set.\n",
    "- It splits the original data into two parts: a training set used to build the model, and a validation set used to test the model's performance."
   ]
  },
  {
   "cell_type": "code",
   "execution_count": 22,
   "id": "93a35bd3-f39a-4255-88f6-4849ccfac5ef",
   "metadata": {},
   "outputs": [],
   "source": [
    "# calculate scores for Naive Bayes model\n",
    "nb_pred = nb_clf.predict(X_test_vect)\n",
    "nb_acc = accuracy_score(y_test, nb_pred)\n",
    "nb_prec = precision_score(y_test, nb_pred)\n",
    "nb_rec = recall_score(y_test, nb_pred)\n",
    "nb_f1 = f1_score(y_test, nb_pred)"
   ]
  },
  {
   "cell_type": "code",
   "execution_count": 23,
   "id": "b1672345-c219-4f25-9c8b-66c6da980a69",
   "metadata": {},
   "outputs": [],
   "source": [
    "# calculate scores for Logistic Regression model\n",
    "lr_pred = lr_clf.predict(X_test_vect)\n",
    "lr_acc = accuracy_score(y_test, lr_pred)\n",
    "lr_prec = precision_score(y_test, lr_pred)\n",
    "lr_rec = recall_score(y_test, lr_pred)\n",
    "lr_f1 = f1_score(y_test, lr_pred)"
   ]
  },
  {
   "cell_type": "markdown",
   "id": "08bef8eb-576f-496c-8be9-f7e9a766f4d8",
   "metadata": {},
   "source": [
    "## Confusion matrix"
   ]
  },
  {
   "cell_type": "code",
   "execution_count": 24,
   "id": "e6b543a0-c675-4f8f-8a0c-d953b08bbfb2",
   "metadata": {},
   "outputs": [
    {
     "ename": "NameError",
     "evalue": "name 'lr_cm' is not defined",
     "output_type": "error",
     "traceback": [
      "\u001b[0;31m---------------------------------------------------------------------------\u001b[0m",
      "\u001b[0;31mNameError\u001b[0m                                 Traceback (most recent call last)",
      "Cell \u001b[0;32mIn [24], line 20\u001b[0m\n\u001b[1;32m     16\u001b[0m thresh \u001b[38;5;241m=\u001b[39m nb_cm\u001b[38;5;241m.\u001b[39mmax() \u001b[38;5;241m/\u001b[39m \u001b[38;5;241m2.0\u001b[39m\n\u001b[1;32m     17\u001b[0m \u001b[38;5;28;01mfor\u001b[39;00m i, j \u001b[38;5;129;01min\u001b[39;00m itertools\u001b[38;5;241m.\u001b[39mproduct(\u001b[38;5;28mrange\u001b[39m(nb_cm\u001b[38;5;241m.\u001b[39mshape[\u001b[38;5;241m0\u001b[39m]), \u001b[38;5;28mrange\u001b[39m(nb_cm\u001b[38;5;241m.\u001b[39mshape[\u001b[38;5;241m1\u001b[39m])):\n\u001b[1;32m     18\u001b[0m     plt\u001b[38;5;241m.\u001b[39mtext(j, i, nb_cm[i, j],\n\u001b[1;32m     19\u001b[0m              horizontalalignment\u001b[38;5;241m=\u001b[39m\u001b[38;5;124m\"\u001b[39m\u001b[38;5;124mcenter\u001b[39m\u001b[38;5;124m\"\u001b[39m,\n\u001b[0;32m---> 20\u001b[0m              color\u001b[38;5;241m=\u001b[39m\u001b[38;5;124m\"\u001b[39m\u001b[38;5;124mwhite\u001b[39m\u001b[38;5;124m\"\u001b[39m \u001b[38;5;28;01mif\u001b[39;00m \u001b[43mlr_cm\u001b[49m[i, j] \u001b[38;5;241m>\u001b[39m thresh \u001b[38;5;28;01melse\u001b[39;00m \u001b[38;5;124m\"\u001b[39m\u001b[38;5;124mblack\u001b[39m\u001b[38;5;124m\"\u001b[39m)\n\u001b[1;32m     22\u001b[0m plt\u001b[38;5;241m.\u001b[39mtight_layout()\n\u001b[1;32m     23\u001b[0m plt\u001b[38;5;241m.\u001b[39mylabel(\u001b[38;5;124m'\u001b[39m\u001b[38;5;124mTrue label\u001b[39m\u001b[38;5;124m'\u001b[39m)\n",
      "\u001b[0;31mNameError\u001b[0m: name 'lr_cm' is not defined"
     ]
    },
    {
     "data": {
      "image/png": "[encoded data removed]",
      "text/plain": [
       "<Figure size 640x480 with 2 Axes>"
      ]
     },
     "metadata": {},
     "output_type": "display_data"
    }
   ],
   "source": [
    "# calculate confusion matrix\n",
    "nb_cm = confusion_matrix(y_test, nb_pred)\n",
    "\n",
    "# define classes\n",
    "classes = np.array(['anxiety', 'depression'])\n",
    "\n",
    "# plot confusion matrix\n",
    "plt.imshow(nb_cm, interpolation='nearest', cmap=plt.cm.Blues)\n",
    "plt.title('Naive Bayes Classifier Confusion Matrix')\n",
    "plt.colorbar()\n",
    "tick_marks = np.arange(len(classes))\n",
    "plt.xticks(tick_marks, classes, rotation=45)\n",
    "plt.yticks(tick_marks, classes)\n",
    "\n",
    "# label\n",
    "thresh = nb_cm.max() / 2.0\n",
    "for i, j in itertools.product(range(nb_cm.shape[0]), range(nb_cm.shape[1])):\n",
    "    plt.text(j, i, nb_cm[i, j],\n",
    "             horizontalalignment=\"center\",\n",
    "             color=\"white\" if lr_cm[i, j] > thresh else \"black\")\n",
    "\n",
    "plt.tight_layout()\n",
    "plt.ylabel('True label')\n",
    "plt.xlabel('Predicted label')\n",
    "plt.tick_params(axis='both', which='major', labelsize=14, pad=10)\n",
    "plt.show()"
   ]
  },
  {
   "cell_type": "markdown",
   "id": "70f08e87-f7e7-4937-94ce-890cc157d811",
   "metadata": {},
   "source": [
    "- TP (True Positive) = 317: This means that 317 posts were correctly classified as belonging to the r/anxiety subreddit.\n",
    "\n",
    "- FP (False Positive) = 82: This means that 82 posts were incorrectly classified as belonging to the r/anxiety subreddit when they actually belonged to the r/depression subreddit.\n",
    "\n",
    "- FN (False Negative) = 34: This means that 34 posts were incorrectly classified as belonging to the r/depression subreddit when they actually belonged to the r/anxiety subreddit.\n",
    "\n",
    "- TN (True Negative) = 359: This means that 359 posts were correctly classified as belonging to the r/depression subreddit."
   ]
  },
  {
   "cell_type": "code",
   "execution_count": null,
   "id": "82df9b83-86e7-4308-9282-c4f671e93760",
   "metadata": {},
   "outputs": [],
   "source": [
    "# calculate confusion matrix\n",
    "lr_cm = confusion_matrix(y_test, lr_pred)\n",
    "\n",
    "# define classes\n",
    "classes = np.array(['anxiety', 'depression'])\n",
    "\n",
    "# plot matrix\n",
    "plt.imshow(lr_cm, interpolation='nearest', cmap=plt.cm.Blues)\n",
    "plt.title('Logistic Regression Classifier Confusion Matrix')\n",
    "plt.colorbar()\n",
    "tick_marks = np.arange(len(classes))\n",
    "plt.xticks(tick_marks, classes, rotation=45)\n",
    "plt.yticks(tick_marks, classes)\n",
    "\n",
    "# label\n",
    "thresh = lr_cm.max() / 2.0\n",
    "for i, j in itertools.product(range(lr_cm.shape[0]), range(lr_cm.shape[1])):\n",
    "    plt.text(j, i, lr_cm[i, j],\n",
    "             horizontalalignment=\"center\",\n",
    "             color=\"white\" if lr_cm[i, j] > thresh else \"black\")\n",
    "\n",
    "plt.tight_layout()\n",
    "plt.ylabel('True label')\n",
    "plt.xlabel('Predicted label')\n",
    "plt.tick_params(axis='both', which='major', labelsize=14, pad=10)\n",
    "plt.show()"
   ]
  },
  {
   "cell_type": "markdown",
   "id": "ecec3b9e-7aaf-418b-8670-48b784f23dca",
   "metadata": {},
   "source": [
    "- TP (True Positive) = 358: This means that 358 posts were correctly classified as belonging to the r/anxiety subreddit.\n",
    "\n",
    "- FP (False Positive) = 41: This means that 41 posts were incorrectly classified as belonging to the r/anxiety subreddit when they actually belonged to the r/depression subreddit.\n",
    "\n",
    "- FN (False Negative) = 41: This means that 41 posts were incorrectly classified as belonging to the r/depression subreddit when they actually belonged to the r/anxiety subreddit.\n",
    "\n",
    "- TN (True Negative) = 352: This means that 352 posts were correctly classified as belonging to the r/depression subreddit."
   ]
  },
  {
   "cell_type": "code",
   "execution_count": null,
   "id": "545d7a55-5d8b-4aae-a8aa-a11a92887018",
   "metadata": {},
   "outputs": [],
   "source": [
    "print(\"Naive Bayes Classifier:\")\n",
    "print(\"Cross-validation scores:\", nb_scores)\n",
    "print(\"Mean cross-validation score:\", nb_scores.mean())\n",
    "print(\"Accuracy:\", nb_acc)\n",
    "print(\"Precision:\", nb_prec)\n",
    "print(\"Recall:\", nb_rec)\n",
    "print(\"F1 score:\", nb_f1)\n",
    "print(\"\\nLogistic Regression Classifier:\")\n",
    "print(\"Cross-validation scores:\", lr_scores)\n",
    "print(\"Mean cross-validation score:\", lr_scores.mean())\n",
    "print(\"Accuracy:\", lr_acc)\n",
    "print(\"Precision:\", lr_prec)\n",
    "print(\"Recall:\", lr_rec)\n",
    "print(\"F1 score:\", lr_f1)"
   ]
  },
  {
   "cell_type": "markdown",
   "id": "22acf081-13b2-4bdf-ba9e-09d73c758f04",
   "metadata": {},
   "source": [
    "***Scoring Description***: </br>\n",
    "- Cross-validation score: </br>\n",
    "    - Average score of a model on a set of test data using cross-validation.\n",
    "    - It is used to evaluate the performance of a model on new data, and it provides an estimate of how well the model is likely to perform on unseen data.\n",
    "\n",
    "- Accuracy: </br>\n",
    "    - Used to measure the overall performance of a model.\n",
    "    - It measures the proportion of correctly classified data points to the total number of data points.\n",
    "    - However, accuracy is not always the best measure of a model's performance, especially when the data is imbalanced or the costs of false positives and false negatives are different (For the dataset, this is not an issue).\n",
    "\n",
    "- Precision: </br>\n",
    "    - Measures the proportion of true positives (correctly identified positives) to the total number of predicted positives.\n",
    "    - It is useful when the cost of false positives is high, and we want to minimize the number of false positives.\n",
    "\n",
    "- Recall: </br>\n",
    "    - Measures the proportion of true positives to the total number of actual positives.\n",
    "    - It is useful when the cost of false negatives is high, and we want to minimize the number of false negatives.\n",
    "\n",
    "- F1 score: </br>\n",
    "    - Harmonic mean of precision and recall, and it provides a single score that combines both metrics.\n",
    "    - It is a useful metric when we want to balance precision and recall, and we want to find a trade-off between them.\n",
    "    - The F1 score ranges from 0 to 1, with 1 being the best possible score."
   ]
  },
  {
   "cell_type": "markdown",
   "id": "92eeef2e-6cf7-471b-9236-7a6b4404e331",
   "metadata": {},
   "source": [
    "***Score Prioritisation***:\n",
    "- In the context of mental health classification between r/depression and r/anxiety with the goal of helping individuals receive appropriate help and support from the community, both recall (sensitivity) and precision are equally important."
   ]
  },
  {
   "cell_type": "markdown",
   "id": "f334b408-61d1-4379-ae9a-bd955bc6a3ce",
   "metadata": {},
   "source": [
    "***Results***: </br>\n",
    "- The goal is to classify posts between r/depression and r/anxiety and direct individuals to the appropriate community for help and support, both `recall (sensitivity)` and `precision` metrics are important.\n",
    "\n",
    "- The logistic regression classifier has an equal precision and recall score of 0.896, which means it is equally good at identifying both positive (r/depression) and negative (r/anxiety) instances. Therefore, it is likely to perform better than the Naive Bayes classifier, which has a lower precision score of 0.814 and a higher recall score of 0.913.\n",
    "\n",
    "- This means that the Naive Bayes classifier may identify more posts as positive (r/depression) than the logistic regression classifier, but at the cost of misclassifying some negative (r/anxiety) instances.\n",
    "\n",
    "- Therefore, the logistic regression classifier is likely to be a better choice for this specific problem and context as it is more balanced in identifying both r/depression and r/anxiety posts, while still maintaining high accuracy and a good balance between precision and recall."
   ]
  },
  {
   "cell_type": "markdown",
   "id": "d65d20f6-f6a4-4407-9527-086c824c08a1",
   "metadata": {},
   "source": [
    "***But Naive Bayes has a higher recall score?*** </br>\n",
    "- We also want to balance recall with other metrics such as precision, accuracy, and F1 score.\n",
    "\n",
    "- The Naive Bayes classifier has a lower precision score (0.814) compared to the logistic regression classifier (0.896), indicating that it may have more false positives, where a post is classified as being about depression (r/depression) but is actually about anxiety (r/anxiety). This could potentially direct individuals to the wrong community for help and support, which could be harmful.\n",
    "\n",
    "- While the Naive Bayes classifier may have a higher recall score, the logistic regression classifier's balanced performance across all metrics, and specifically its equal precision and recall score, makes it a better choice for this specific problem and context of classifying posts between r/depression and r/anxiety and directing individuals to the appropriate community for help and support."
   ]
  },
  {
   "cell_type": "markdown",
   "id": "9230a001-831b-4d19-b986-4d89c5469106",
   "metadata": {},
   "source": [
    "## ROC curve"
   ]
  },
  {
   "cell_type": "markdown",
   "id": "a2e86632-8162-476f-baff-8e9c81b5f613",
   "metadata": {},
   "source": [
    "- The ROC curve is a plot of the true positive rate (sensitivity) against the false positive rate (1-specificity) for different threshold values.\n",
    "\n",
    "- The true positive rate is the proportion of actual positives that are correctly identified as positives, and the false positive rate is the proportion of actual negatives that are incorrectly identified as positives.\n",
    "\n",
    "- Useful for evaluating the performance of a binary classifier over a range of possible classification thresholds.\n",
    "\n",
    "- A good classifier should have a ROC curve that is closer to the upper left corner of the plot, which represents high true positive rates and low false positive rates. A diagonal line from the bottom left to the top right of the plot represents a random guess classifier.\n",
    "\n",
    "- Area under the ROC curve (AUC) is also a useful metric for evaluating the overall performance of a classifier. A perfect classifier will have an AUC of 1, while a random guess classifier will have an AUC of 0.5. A classifier with an AUC greater than 0.5 but less than 1 is better than random guessing, but not perfect.\n",
    "\n",
    "- A random guess classifier is useful as a baseline model for classification tasks, especially in cases where the classes are imbalanced or the data is noisy. By comparing the performance of more complex models such as Naive Bayes or Logistic Regression to the random guess classifier, we can determine whether the models are adding any value to the classification task.\n",
    "\n",
    "- In summary, the ROC curve helps to visualize the trade-off between true positive and false positive rates for different threshold values, and the AUC provides a single number summary of the classifier's overall performance."
   ]
  },
  {
   "cell_type": "code",
   "execution_count": null,
   "id": "b98af6da-9026-4695-9dfb-9a82d6a55628",
   "metadata": {},
   "outputs": [],
   "source": [
    "# Train a random guess classifier that predicts classes at random\n",
    "random_guess_clf = DummyClassifier(strategy='uniform', random_state=42)\n",
    "random_guess_clf.fit(X_train_vect, y_train)"
   ]
  },
  {
   "cell_type": "code",
   "execution_count": null,
   "id": "d6a038f5-75e1-457d-bb07-457ade62a2d1",
   "metadata": {},
   "outputs": [],
   "source": [
    "# Plot the ROC curve for the Naive Bayes classifier\n",
    "nb_disp = plot_roc_curve(nb_clf, X_test_vect, y_test)\n",
    "\n",
    "# Plot the ROC curve for the logistic regression classifier\n",
    "lr_disp = plot_roc_curve(lr_clf, X_test_vect, y_test, ax=nb_disp.ax_)\n",
    "\n",
    "# Plot the ROC curve for the random guess classifier\n",
    "random_guess_disp = plot_roc_curve(random_guess_clf, X_test_vect, y_test, ax=nb_disp.ax_, linestyle='--')\n",
    "\n",
    "# Calculate and display the AUC value for the Naive Bayes classifier\n",
    "nb_auc = auc(nb_disp.fpr, nb_disp.tpr)\n",
    "plt.text(0.7, 0.3, f'Naive Bayes AUC = {nb_auc:.2f}', ha='center', va='center', color='blue')\n",
    "\n",
    "# Calculate and display the AUC value for the logistic regression classifier\n",
    "lr_auc = auc(lr_disp.fpr, lr_disp.tpr)\n",
    "plt.text(0.7, 0.4, f'Logistic Regression AUC = {lr_auc:.2f}', ha='center', va='center', color='orange')\n",
    "\n",
    "# Add a legend and show the plot\n",
    "lr_disp.ax_.legend(['Naive Bayes', 'Logistic Regression', 'AUC'])\n",
    "plt.show()"
   ]
  },
  {
   "cell_type": "markdown",
   "id": "cf5652c7-2db0-4c62-bd2e-f5090a27522d",
   "metadata": {},
   "source": [
    "***Results***:</br>\n",
    "- Logistic Regression model has a larger area below the curve (i.e., a higher AUC value), this generally indicates that the Logistic Regression model is performing better than the Naive Bayes model in terms of its ability to distinguish between the positive and negative classes.\n",
    "\n",
    "- The larger area under the ROC curve for the Logistic Regression model suggests that it has a better balance between true positives and false positives compared to the Naive Bayes model.\n",
    "\n",
    "- The higher AUC value suggests that the Logistic Regression model is better at correctly identifying positive cases while minimizing false positives (i.e., higher precision) and at correctly identifying both positive and negative cases (i.e., higher recall)."
   ]
  },
  {
   "cell_type": "markdown",
   "id": "6b15ae84-6b4b-40eb-981c-9c3e09aec786",
   "metadata": {},
   "source": [
    "## Demo"
   ]
  },
  {
   "cell_type": "code",
   "execution_count": null,
   "id": "de23ea71-1bf7-4246-9d75-6c063a5e818b",
   "metadata": {},
   "outputs": [],
   "source": [
    "def clean_text(text):\n",
    "    # Rreplace underscores and replace with spaces\n",
    "    text = text.replace('_', ' ')\n",
    "\n",
    "    # lowercase the texts\n",
    "    text = text.lower()\n",
    "    \n",
    "    # remove numbers using regex that match one or more digits\n",
    "    text = re.sub(r'\\d+', '', text)\n",
    "    \n",
    "    # remove hypens and split the hyphenated words into individual words\n",
    "    text = re.sub(r\"-\", \" \", text)\n",
    "    \n",
    "    # remove apostrophes and split into individual words\n",
    "    text = re.sub(r\"'\", \"\", text)\n",
    "    text = re.sub(r\"n't\", \" not\", text)\n",
    "    text = re.sub(r\"'re\", \" are\", text)\n",
    "    text = re.sub(r\"'s\", \" is\", text)\n",
    "    text = re.sub(r\"'m\", \" am\", text)\n",
    "    text = re.sub(r\"'ll\", \" will\", text)\n",
    "    text = re.sub(r\"'d\", \" would\", text)\n",
    "    \n",
    "    # remove punctuations using regex that match one or more punctuation characters\n",
    "    text = re.sub(r'[^\\w\\s]+', '', text)\n",
    "    \n",
    "    # remove links\n",
    "    words = text.split(' ')\n",
    "    words_to_sub = [w for w in words if 'http' in w]\n",
    "\n",
    "    if words_to_sub:\n",
    "        for w in words_to_sub:\n",
    "            new_word = re.sub('http.*', '', w)\n",
    "            text = re.sub(w, new_word, text)\n",
    "    \n",
    "    # remove whitespaces using regex that match one or more whitespace characters\n",
    "    text = re.sub(r'\\s+', ' ', text).strip()\n",
    "    \n",
    "    return text"
   ]
  },
  {
   "cell_type": "code",
   "execution_count": null,
   "id": "7be96bb9-571b-44e8-8c11-74b83506f977",
   "metadata": {},
   "outputs": [],
   "source": [
    "def lemmatize(text):\n",
    "    # instantiate the lemmatizer object\n",
    "    lemmatizer = WordNetLemmatizer()\n",
    "    tokens = nltk.word_tokenize(text)\n",
    "    \n",
    "    # remove stopwords from tokens\n",
    "    stop_words = set(stopwords.words('english'))\n",
    "    filtered_tokens = [token for token in tokens if token.lower() not in stop_words]\n",
    "    \n",
    "    # lemmatize the tokens in the list of filtered tokens\n",
    "    lemmatized_tokens = [lemmatizer.lemmatize(token) for token in filtered_tokens]\n",
    "    \n",
    "    # join back into a string to return lemmatized text\n",
    "    lemmatized_text = \" \".join(lemmatized_tokens)\n",
    "    \n",
    "    return lemmatized_text"
   ]
  },
  {
   "cell_type": "code",
   "execution_count": null,
   "id": "c7b1045b-99bc-457e-b914-04b23fb43fcc",
   "metadata": {},
   "outputs": [],
   "source": [
    "input_text = \"GovTech\""
   ]
  },
  {
   "cell_type": "code",
   "execution_count": null,
   "id": "b775af70-98ae-4d6e-a042-afda699ebeee",
   "metadata": {},
   "outputs": [],
   "source": [
    "cleaned_text = clean_text(input_text)"
   ]
  },
  {
   "cell_type": "code",
   "execution_count": null,
   "id": "63526c18-5673-4fb4-8cad-cb3ead8015b5",
   "metadata": {},
   "outputs": [],
   "source": [
    "cleaned_lem_text = lemmatize(cleaned_text)"
   ]
  },
  {
   "cell_type": "code",
   "execution_count": null,
   "id": "1018dda4-17f7-49b1-b39e-27fda9812b14",
   "metadata": {},
   "outputs": [],
   "source": [
    "# Transform the preprocessed text\n",
    "transformed_text = vectorizer.transform([cleaned_lem_text])"
   ]
  },
  {
   "cell_type": "code",
   "execution_count": null,
   "id": "90b0d184-cd8d-4af9-a351-4666f44c2266",
   "metadata": {},
   "outputs": [],
   "source": [
    "# Predict the class of the input text\n",
    "predicted_class = lr_clf.predict(transformed_text)[0]"
   ]
  },
  {
   "cell_type": "code",
   "execution_count": null,
   "id": "f8329d51-9180-42ed-9eb0-0364911791bb",
   "metadata": {},
   "outputs": [],
   "source": [
    "if predicted_class == 0:\n",
    "    predicted_subreddit = \"r/anxiety\"\n",
    "else:\n",
    "    predicted_subreddit = \"r/depression\""
   ]
  },
  {
   "cell_type": "code",
   "execution_count": null,
   "id": "2b964c24-bbfa-40fa-b272-a9ff7721b3e2",
   "metadata": {},
   "outputs": [],
   "source": [
    "print(f\"The recommended subreddit for the input text '{input_text}' to be posted in is {predicted_subreddit}\")"
   ]
  },
  {
   "cell_type": "code",
   "execution_count": null,
   "id": "cad62782-7112-48ef-bb41-06cf3f5bbda1",
   "metadata": {},
   "outputs": [],
   "source": []
  }
 ],
 "metadata": {
  "kernelspec": {
   "display_name": "dsi-sg",
   "language": "python",
   "name": "dsi-sg"
  },
  "language_info": {
   "codemirror_mode": {
    "name": "ipython",
    "version": 3
   },
   "file_extension": ".py",
   "mimetype": "text/x-python",
   "name": "python",
   "nbconvert_exporter": "python",
   "pygments_lexer": "ipython3",
   "version": "3.9.13"
  }
 },
 "nbformat": 4,
 "nbformat_minor": 5
}
