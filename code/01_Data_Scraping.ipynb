{
 "cells": [
  {
   "cell_type": "markdown",
   "id": "f2881f14-f778-4d1f-add1-7e9966395190",
   "metadata": {},
   "source": [
    "## Data import and cleaning"
   ]
  },
  {
   "cell_type": "markdown",
   "id": "0b310497-9d15-4a6c-bdf0-268eec63a79c",
   "metadata": {},
   "source": [
    "___"
   ]
  },
  {
   "cell_type": "markdown",
   "id": "16ba689f-c990-4cec-9825-3bdd441a5087",
   "metadata": {},
   "source": [
    "PRAW to extract top 1k posts for EDA  </br>\n",
    "PSAW to extract over a range of dates for ML"
   ]
  },
  {
   "cell_type": "markdown",
   "id": "f7600107-292e-4794-9fdd-16ca11e0b738",
   "metadata": {},
   "source": [
    "### Import Libraries"
   ]
  },
  {
   "cell_type": "code",
   "execution_count": 1,
   "id": "383a9319-db5d-46f1-b8ef-c5968317aa85",
   "metadata": {},
   "outputs": [],
   "source": [
    "import requests # to send http requests and handle responses\n",
    "import pandas as pd\n",
    "import datetime as dt\n",
    "import time\n",
    "import praw # interface for reddit API"
   ]
  },
  {
   "cell_type": "markdown",
   "id": "2a912851-9122-42b5-bfc3-4be7ce926533",
   "metadata": {},
   "source": [
    "___"
   ]
  },
  {
   "cell_type": "code",
   "execution_count": 2,
   "id": "eae82e0f-8222-4f8d-81a0-fc603a3542d8",
   "metadata": {},
   "outputs": [],
   "source": [
    "# define start and end dates in string format\n",
    "start_date_str = \"2022-11-01\"\n",
    "end_date_str = \"2023-01-28\""
   ]
  },
  {
   "cell_type": "code",
   "execution_count": 3,
   "id": "e4018806-3055-4908-adc5-8a57e7e574d4",
   "metadata": {},
   "outputs": [],
   "source": [
    "# convert start and end dates to Unix timestamps\n",
    "start_date = int(dt.datetime.strptime(start_date_str, \"%Y-%m-%d\").timestamp())\n",
    "end_date = int(dt.datetime.strptime(end_date_str, \"%Y-%m-%d\").timestamp())"
   ]
  },
  {
   "cell_type": "code",
   "execution_count": 4,
   "id": "b5274d38-f7db-4e47-ae8a-5658286e931d",
   "metadata": {},
   "outputs": [],
   "source": [
    "columns_ps =['id', 'created_utc', 'title', 'is_self', 'selftext', 'score', 'upvote_ratio', 'num_comments', 'permalink', 'author', 'distinguished']"
   ]
  },
  {
   "cell_type": "code",
   "execution_count": 5,
   "id": "f8810444-f360-4973-af6d-59e5c011ce35",
   "metadata": {},
   "outputs": [],
   "source": [
    "def scrape_pushshift(subreddit, start_date_str, end_date_str, columns):\n",
    "    # define base url\n",
    "    url = f\"https://api.pushshift.io/reddit/submission/search/?subreddit={subreddit}\"\n",
    "\n",
    "    # parameters\n",
    "    params = {\n",
    "        \"after\": start_date_str,\n",
    "        \"before\": end_date_str,\n",
    "        \"size\": 1000, # the maximum number of posts to retrieve per request\n",
    "        \"fields\": columns\n",
    "    }\n",
    "\n",
    "    # send HTTP GET request to retrieve response\n",
    "    response = requests.get(url, params=params)\n",
    "\n",
    "    # check if response is successful\n",
    "    if response.status_code == 200:\n",
    "        # extract list of posts\n",
    "        data = response.json()\n",
    "        posts = data[\"data\"]\n",
    "\n",
    "        # convert list of posts to dataframe\n",
    "        return pd.DataFrame(posts, columns=columns)\n",
    "    else:\n",
    "        # error message if request fails\n",
    "        raise Exception(f\"Request failed with status code {response.status_code}: {response.text}\")"
   ]
  },
  {
   "cell_type": "code",
   "execution_count": 6,
   "id": "05d4a45c-6848-4083-a9a1-52c0582729bf",
   "metadata": {},
   "outputs": [],
   "source": [
    "# scrape r/anxiety subreddit\n",
    "df_anxiety_ps = scrape_pushshift('anxiety', start_date, end_date, columns_ps)"
   ]
  },
  {
   "cell_type": "code",
   "execution_count": 7,
   "id": "99984933-9a38-4d0f-b25d-ae59f234c7aa",
   "metadata": {},
   "outputs": [
    {
     "data": {
      "text/html": [
       "<div>\n",
       "<style scoped>\n",
       "    .dataframe tbody tr th:only-of-type {\n",
       "        vertical-align: middle;\n",
       "    }\n",
       "\n",
       "    .dataframe tbody tr th {\n",
       "        vertical-align: top;\n",
       "    }\n",
       "\n",
       "    .dataframe thead th {\n",
       "        text-align: right;\n",
       "    }\n",
       "</style>\n",
       "<table border=\"1\" class=\"dataframe\">\n",
       "  <thead>\n",
       "    <tr style=\"text-align: right;\">\n",
       "      <th></th>\n",
       "      <th>id</th>\n",
       "      <th>created_utc</th>\n",
       "      <th>title</th>\n",
       "      <th>is_self</th>\n",
       "      <th>selftext</th>\n",
       "      <th>score</th>\n",
       "      <th>upvote_ratio</th>\n",
       "      <th>num_comments</th>\n",
       "      <th>permalink</th>\n",
       "      <th>author</th>\n",
       "      <th>distinguished</th>\n",
       "    </tr>\n",
       "  </thead>\n",
       "  <tbody>\n",
       "    <tr>\n",
       "      <th>0</th>\n",
       "      <td>10mo9oe</td>\n",
       "      <td>1674834997</td>\n",
       "      <td>For the First time in YEARS I have found mysel...</td>\n",
       "      <td>True</td>\n",
       "      <td>I felt the need to get this off my chest and f...</td>\n",
       "      <td>1</td>\n",
       "      <td>1.0</td>\n",
       "      <td>0</td>\n",
       "      <td>/r/Anxiety/comments/10mo9oe/for_the_first_time...</td>\n",
       "      <td>asomers44</td>\n",
       "      <td>None</td>\n",
       "    </tr>\n",
       "    <tr>\n",
       "      <th>1</th>\n",
       "      <td>10mo813</td>\n",
       "      <td>1674834885</td>\n",
       "      <td>How does being breathless feel?</td>\n",
       "      <td>True</td>\n",
       "      <td>For some reason I’m breathing out my nose but ...</td>\n",
       "      <td>1</td>\n",
       "      <td>1.0</td>\n",
       "      <td>0</td>\n",
       "      <td>/r/Anxiety/comments/10mo813/how_does_being_bre...</td>\n",
       "      <td>JamesDudleyv</td>\n",
       "      <td>None</td>\n",
       "    </tr>\n",
       "    <tr>\n",
       "      <th>2</th>\n",
       "      <td>10mo74n</td>\n",
       "      <td>1674834823</td>\n",
       "      <td>Short Survey for breath work app against anxiety</td>\n",
       "      <td>True</td>\n",
       "      <td>[removed]</td>\n",
       "      <td>1</td>\n",
       "      <td>1.0</td>\n",
       "      <td>0</td>\n",
       "      <td>/r/Anxiety/comments/10mo74n/short_survey_for_b...</td>\n",
       "      <td>Apprehensive_Form367</td>\n",
       "      <td>None</td>\n",
       "    </tr>\n",
       "  </tbody>\n",
       "</table>\n",
       "</div>"
      ],
      "text/plain": [
       "        id  created_utc                                              title  \\\n",
       "0  10mo9oe   1674834997  For the First time in YEARS I have found mysel...   \n",
       "1  10mo813   1674834885                    How does being breathless feel?   \n",
       "2  10mo74n   1674834823   Short Survey for breath work app against anxiety   \n",
       "\n",
       "   is_self                                           selftext  score  \\\n",
       "0     True  I felt the need to get this off my chest and f...      1   \n",
       "1     True  For some reason I’m breathing out my nose but ...      1   \n",
       "2     True                                          [removed]      1   \n",
       "\n",
       "   upvote_ratio  num_comments  \\\n",
       "0           1.0             0   \n",
       "1           1.0             0   \n",
       "2           1.0             0   \n",
       "\n",
       "                                           permalink                author  \\\n",
       "0  /r/Anxiety/comments/10mo9oe/for_the_first_time...             asomers44   \n",
       "1  /r/Anxiety/comments/10mo813/how_does_being_bre...          JamesDudleyv   \n",
       "2  /r/Anxiety/comments/10mo74n/short_survey_for_b...  Apprehensive_Form367   \n",
       "\n",
       "  distinguished  \n",
       "0          None  \n",
       "1          None  \n",
       "2          None  "
      ]
     },
     "execution_count": 7,
     "metadata": {},
     "output_type": "execute_result"
    }
   ],
   "source": [
    "df_anxiety_ps.head(3)"
   ]
  },
  {
   "cell_type": "code",
   "execution_count": 8,
   "id": "36adfcf2-9c19-44d7-8dd1-089c809b566d",
   "metadata": {},
   "outputs": [],
   "source": [
    "# scrape r/depression subreddit\n",
    "df_depression_ps = scrape_pushshift('depression', start_date, end_date, columns_ps)"
   ]
  },
  {
   "cell_type": "code",
   "execution_count": 9,
   "id": "609aed6c-73c3-4a89-905d-c0c37ea8ffae",
   "metadata": {},
   "outputs": [
    {
     "data": {
      "text/html": [
       "<div>\n",
       "<style scoped>\n",
       "    .dataframe tbody tr th:only-of-type {\n",
       "        vertical-align: middle;\n",
       "    }\n",
       "\n",
       "    .dataframe tbody tr th {\n",
       "        vertical-align: top;\n",
       "    }\n",
       "\n",
       "    .dataframe thead th {\n",
       "        text-align: right;\n",
       "    }\n",
       "</style>\n",
       "<table border=\"1\" class=\"dataframe\">\n",
       "  <thead>\n",
       "    <tr style=\"text-align: right;\">\n",
       "      <th></th>\n",
       "      <th>id</th>\n",
       "      <th>created_utc</th>\n",
       "      <th>title</th>\n",
       "      <th>is_self</th>\n",
       "      <th>selftext</th>\n",
       "      <th>score</th>\n",
       "      <th>upvote_ratio</th>\n",
       "      <th>num_comments</th>\n",
       "      <th>permalink</th>\n",
       "      <th>author</th>\n",
       "      <th>distinguished</th>\n",
       "    </tr>\n",
       "  </thead>\n",
       "  <tbody>\n",
       "    <tr>\n",
       "      <th>0</th>\n",
       "      <td>10moalc</td>\n",
       "      <td>1674835061</td>\n",
       "      <td>I think I finally broke completely</td>\n",
       "      <td>True</td>\n",
       "      <td>The worst feeling in the world is hope, it mak...</td>\n",
       "      <td>1</td>\n",
       "      <td>1.0</td>\n",
       "      <td>0</td>\n",
       "      <td>/r/depression/comments/10moalc/i_think_i_final...</td>\n",
       "      <td>Sandersgarbanzo</td>\n",
       "      <td>None</td>\n",
       "    </tr>\n",
       "    <tr>\n",
       "      <th>1</th>\n",
       "      <td>10mo82z</td>\n",
       "      <td>1674834889</td>\n",
       "      <td>i dont know what to do</td>\n",
       "      <td>True</td>\n",
       "      <td>[removed]</td>\n",
       "      <td>1</td>\n",
       "      <td>1.0</td>\n",
       "      <td>0</td>\n",
       "      <td>/r/depression/comments/10mo82z/i_dont_know_wha...</td>\n",
       "      <td>towjdjrfjkfje</td>\n",
       "      <td>None</td>\n",
       "    </tr>\n",
       "    <tr>\n",
       "      <th>2</th>\n",
       "      <td>10mo7bf</td>\n",
       "      <td>1674834836</td>\n",
       "      <td>Do I have depression?</td>\n",
       "      <td>True</td>\n",
       "      <td>I have an important question, I don't want an ...</td>\n",
       "      <td>1</td>\n",
       "      <td>1.0</td>\n",
       "      <td>0</td>\n",
       "      <td>/r/depression/comments/10mo7bf/do_i_have_depre...</td>\n",
       "      <td>enart_pl</td>\n",
       "      <td>None</td>\n",
       "    </tr>\n",
       "  </tbody>\n",
       "</table>\n",
       "</div>"
      ],
      "text/plain": [
       "        id  created_utc                               title  is_self  \\\n",
       "0  10moalc   1674835061  I think I finally broke completely     True   \n",
       "1  10mo82z   1674834889              i dont know what to do     True   \n",
       "2  10mo7bf   1674834836               Do I have depression?     True   \n",
       "\n",
       "                                            selftext  score  upvote_ratio  \\\n",
       "0  The worst feeling in the world is hope, it mak...      1           1.0   \n",
       "1                                          [removed]      1           1.0   \n",
       "2  I have an important question, I don't want an ...      1           1.0   \n",
       "\n",
       "   num_comments                                          permalink  \\\n",
       "0             0  /r/depression/comments/10moalc/i_think_i_final...   \n",
       "1             0  /r/depression/comments/10mo82z/i_dont_know_wha...   \n",
       "2             0  /r/depression/comments/10mo7bf/do_i_have_depre...   \n",
       "\n",
       "            author distinguished  \n",
       "0  Sandersgarbanzo          None  \n",
       "1    towjdjrfjkfje          None  \n",
       "2         enart_pl          None  "
      ]
     },
     "execution_count": 9,
     "metadata": {},
     "output_type": "execute_result"
    }
   ],
   "source": [
    "df_depression_ps.head(3)"
   ]
  },
  {
   "cell_type": "code",
   "execution_count": 10,
   "id": "ef7cc198-af89-4fc1-955e-06b7446edb40",
   "metadata": {},
   "outputs": [],
   "source": [
    "pd.DataFrame(df_anxiety_ps).to_csv('../datasets/anxiety_ps.csv', index = False)"
   ]
  },
  {
   "cell_type": "code",
   "execution_count": 11,
   "id": "5c9f36c4-42b9-4be2-a5a4-aa4ceedbd9a5",
   "metadata": {},
   "outputs": [],
   "source": [
    "pd.DataFrame(df_depression_ps).to_csv('../datasets/depression_ps.csv', index = False)"
   ]
  },
  {
   "cell_type": "markdown",
   "id": "59fb867b-dbd6-4e2a-beed-ac5a01a8c551",
   "metadata": {},
   "source": [
    "### PRAW"
   ]
  },
  {
   "cell_type": "code",
   "execution_count": 12,
   "id": "30a6394c-753d-470e-a998-8c65b85bbe12",
   "metadata": {},
   "outputs": [
    {
     "name": "stderr",
     "output_type": "stream",
     "text": [
      "Version 7.6.1 of praw is outdated. Version 7.7.0 was released 7 days ago.\n"
     ]
    }
   ],
   "source": [
    "# PRAW setup\n",
    "reddit = praw.Reddit(client_id='q4ZIN6K8AolTMkmLJosxjQ',\n",
    "                     client_secret='1snUWeiOiHEJah0J1jMWsJCwCQLIMA',\n",
    "                     username='Nicholas_Khoo_DS',\n",
    "                     password='dswebscraping123!',\n",
    "                     user_agent='Nicholas_Khoo_DS')"
   ]
  },
  {
   "cell_type": "code",
   "execution_count": 13,
   "id": "025dd782-6f36-4805-ab23-7cd62680c82b",
   "metadata": {},
   "outputs": [
    {
     "name": "stdout",
     "output_type": "stream",
     "text": [
      "Nicholas_Khoo_DS\n"
     ]
    }
   ],
   "source": [
    "print(reddit.user.me())"
   ]
  },
  {
   "cell_type": "code",
   "execution_count": 14,
   "id": "698bee08-54d1-4987-8ed6-21eccdeb6ce7",
   "metadata": {},
   "outputs": [],
   "source": [
    "# define columns to extract\n",
    "columns_praw = ['id', 'created_utc', 'title', 'is_self', 'selftext', 'score', 'upvote_ratio', 'num_comments', 'permalink', 'author', 'distinguished']"
   ]
  },
  {
   "cell_type": "code",
   "execution_count": 15,
   "id": "1e7bab31-a5d1-402b-b0b8-2c847a9559f6",
   "metadata": {},
   "outputs": [
    {
     "name": "stdout",
     "output_type": "stream",
     "text": [
      "The number of top posts in r/depression is 969.\n"
     ]
    }
   ],
   "source": [
    "subreddit = reddit.subreddit('depression')\n",
    "num_top_posts = subreddit.top(limit=None)  # None sets no limit\n",
    "print(f\"The number of top posts in r/depression is {len(list(num_top_posts))}.\")"
   ]
  },
  {
   "cell_type": "code",
   "execution_count": 16,
   "id": "cb095812-5d22-43e7-b5e4-b9026ac51397",
   "metadata": {},
   "outputs": [
    {
     "name": "stdout",
     "output_type": "stream",
     "text": [
      "The number of top posts in r/depression is 996.\n"
     ]
    }
   ],
   "source": [
    "subreddit = reddit.subreddit('anxiety')\n",
    "num_top_posts = subreddit.top(limit=None)  # None sets no limit\n",
    "print(f\"The number of top posts in r/depression is {len(list(num_top_posts))}.\")"
   ]
  },
  {
   "cell_type": "code",
   "execution_count": 17,
   "id": "a1a2379f-dc20-4ee9-8e63-3166f0e86cf1",
   "metadata": {},
   "outputs": [],
   "source": [
    "def scrape_reddit_top(subreddit, columns):\n",
    "\n",
    "    # to store posts\n",
    "    posts = []\n",
    "    \n",
    "    # set limit and time delay to prevent IP ban\n",
    "    limit = 1000\n",
    "    delay = 2\n",
    "    \n",
    "    # get top posts and append to list\n",
    "    for submission in reddit.subreddit(subreddit).top(limit=limit):\n",
    "        post = {}\n",
    "        for col in columns:\n",
    "            post[col] = getattr(submission, col)\n",
    "        posts.append(post)\n",
    "        time.sleep(delay)\n",
    "    \n",
    "    # convert list of dictionaries to dataframe\n",
    "    df = pd.DataFrame(posts)\n",
    "    \n",
    "    return df"
   ]
  },
  {
   "cell_type": "code",
   "execution_count": 18,
   "id": "172602be-39e2-491c-bd3d-a4cb150fc4ed",
   "metadata": {},
   "outputs": [],
   "source": [
    "df_anxiety_praw = scrape_reddit_top('anxiety', columns_praw)"
   ]
  },
  {
   "cell_type": "code",
   "execution_count": 19,
   "id": "5bb48219-fb1a-482f-8872-0dec9c69ede6",
   "metadata": {},
   "outputs": [],
   "source": [
    "df_depression_praw = scrape_reddit_top('depression', columns_praw)"
   ]
  },
  {
   "cell_type": "code",
   "execution_count": 20,
   "id": "8c6da7ba-5862-431b-b351-649a7134de5f",
   "metadata": {
    "scrolled": true,
    "tags": []
   },
   "outputs": [
    {
     "data": {
      "text/html": [
       "<div>\n",
       "<style scoped>\n",
       "    .dataframe tbody tr th:only-of-type {\n",
       "        vertical-align: middle;\n",
       "    }\n",
       "\n",
       "    .dataframe tbody tr th {\n",
       "        vertical-align: top;\n",
       "    }\n",
       "\n",
       "    .dataframe thead th {\n",
       "        text-align: right;\n",
       "    }\n",
       "</style>\n",
       "<table border=\"1\" class=\"dataframe\">\n",
       "  <thead>\n",
       "    <tr style=\"text-align: right;\">\n",
       "      <th></th>\n",
       "      <th>id</th>\n",
       "      <th>created_utc</th>\n",
       "      <th>title</th>\n",
       "      <th>is_self</th>\n",
       "      <th>selftext</th>\n",
       "      <th>score</th>\n",
       "      <th>upvote_ratio</th>\n",
       "      <th>num_comments</th>\n",
       "      <th>permalink</th>\n",
       "      <th>author</th>\n",
       "      <th>distinguished</th>\n",
       "    </tr>\n",
       "  </thead>\n",
       "  <tbody>\n",
       "    <tr>\n",
       "      <th>0</th>\n",
       "      <td>8zcjh1</td>\n",
       "      <td>1.531760e+09</td>\n",
       "      <td>Despite the anxiety, despite the depression, d...</td>\n",
       "      <td>False</td>\n",
       "      <td></td>\n",
       "      <td>7836</td>\n",
       "      <td>0.99</td>\n",
       "      <td>293</td>\n",
       "      <td>/r/Anxiety/comments/8zcjh1/despite_the_anxiety...</td>\n",
       "      <td>WoollyNinja</td>\n",
       "      <td>None</td>\n",
       "    </tr>\n",
       "    <tr>\n",
       "      <th>1</th>\n",
       "      <td>b18zmk</td>\n",
       "      <td>1.552615e+09</td>\n",
       "      <td>Today I promised myself bacon and eggs if I co...</td>\n",
       "      <td>False</td>\n",
       "      <td></td>\n",
       "      <td>6048</td>\n",
       "      <td>0.99</td>\n",
       "      <td>242</td>\n",
       "      <td>/r/Anxiety/comments/b18zmk/today_i_promised_my...</td>\n",
       "      <td>Becky-and-Momo</td>\n",
       "      <td>None</td>\n",
       "    </tr>\n",
       "    <tr>\n",
       "      <th>2</th>\n",
       "      <td>asl2gr</td>\n",
       "      <td>1.550645e+09</td>\n",
       "      <td>Professor here, if you have missed class, plea...</td>\n",
       "      <td>True</td>\n",
       "      <td>Hello, I’ve read a lot of posts recently about...</td>\n",
       "      <td>5205</td>\n",
       "      <td>1.00</td>\n",
       "      <td>207</td>\n",
       "      <td>/r/Anxiety/comments/asl2gr/professor_here_if_y...</td>\n",
       "      <td>Lofty_Incantations11</td>\n",
       "      <td>None</td>\n",
       "    </tr>\n",
       "  </tbody>\n",
       "</table>\n",
       "</div>"
      ],
      "text/plain": [
       "       id   created_utc                                              title  \\\n",
       "0  8zcjh1  1.531760e+09  Despite the anxiety, despite the depression, d...   \n",
       "1  b18zmk  1.552615e+09  Today I promised myself bacon and eggs if I co...   \n",
       "2  asl2gr  1.550645e+09  Professor here, if you have missed class, plea...   \n",
       "\n",
       "   is_self                                           selftext  score  \\\n",
       "0    False                                                      7836   \n",
       "1    False                                                      6048   \n",
       "2     True  Hello, I’ve read a lot of posts recently about...   5205   \n",
       "\n",
       "   upvote_ratio  num_comments  \\\n",
       "0          0.99           293   \n",
       "1          0.99           242   \n",
       "2          1.00           207   \n",
       "\n",
       "                                           permalink                author  \\\n",
       "0  /r/Anxiety/comments/8zcjh1/despite_the_anxiety...           WoollyNinja   \n",
       "1  /r/Anxiety/comments/b18zmk/today_i_promised_my...        Becky-and-Momo   \n",
       "2  /r/Anxiety/comments/asl2gr/professor_here_if_y...  Lofty_Incantations11   \n",
       "\n",
       "  distinguished  \n",
       "0          None  \n",
       "1          None  \n",
       "2          None  "
      ]
     },
     "execution_count": 20,
     "metadata": {},
     "output_type": "execute_result"
    }
   ],
   "source": [
    "df_anxiety_praw.head(3)"
   ]
  },
  {
   "cell_type": "code",
   "execution_count": 21,
   "id": "520b4363-5fd4-402c-97e2-2e9ee78d61b6",
   "metadata": {},
   "outputs": [
    {
     "data": {
      "text/html": [
       "<div>\n",
       "<style scoped>\n",
       "    .dataframe tbody tr th:only-of-type {\n",
       "        vertical-align: middle;\n",
       "    }\n",
       "\n",
       "    .dataframe tbody tr th {\n",
       "        vertical-align: top;\n",
       "    }\n",
       "\n",
       "    .dataframe thead th {\n",
       "        text-align: right;\n",
       "    }\n",
       "</style>\n",
       "<table border=\"1\" class=\"dataframe\">\n",
       "  <thead>\n",
       "    <tr style=\"text-align: right;\">\n",
       "      <th></th>\n",
       "      <th>id</th>\n",
       "      <th>created_utc</th>\n",
       "      <th>title</th>\n",
       "      <th>is_self</th>\n",
       "      <th>selftext</th>\n",
       "      <th>score</th>\n",
       "      <th>upvote_ratio</th>\n",
       "      <th>num_comments</th>\n",
       "      <th>permalink</th>\n",
       "      <th>author</th>\n",
       "      <th>distinguished</th>\n",
       "    </tr>\n",
       "  </thead>\n",
       "  <tbody>\n",
       "    <tr>\n",
       "      <th>0</th>\n",
       "      <td>cd0hjp</td>\n",
       "      <td>1.563091e+09</td>\n",
       "      <td>Shout out to the particular hell that is funct...</td>\n",
       "      <td>True</td>\n",
       "      <td>This is me. Don’t get me wrong, it’s better th...</td>\n",
       "      <td>6678</td>\n",
       "      <td>1.0</td>\n",
       "      <td>348</td>\n",
       "      <td>/r/depression/comments/cd0hjp/shout_out_to_the...</td>\n",
       "      <td>fallen-fawn</td>\n",
       "      <td>None</td>\n",
       "    </tr>\n",
       "    <tr>\n",
       "      <th>1</th>\n",
       "      <td>i3ajk8</td>\n",
       "      <td>1.596506e+09</td>\n",
       "      <td>I hate that people don’t understand that i don...</td>\n",
       "      <td>True</td>\n",
       "      <td></td>\n",
       "      <td>4723</td>\n",
       "      <td>1.0</td>\n",
       "      <td>260</td>\n",
       "      <td>/r/depression/comments/i3ajk8/i_hate_that_peop...</td>\n",
       "      <td>Nathanvic13</td>\n",
       "      <td>None</td>\n",
       "    </tr>\n",
       "    <tr>\n",
       "      <th>2</th>\n",
       "      <td>ccaxvm</td>\n",
       "      <td>1.562939e+09</td>\n",
       "      <td>If 10 years ago someone told me that in 10 yea...</td>\n",
       "      <td>True</td>\n",
       "      <td>But here I am, 24 years old man and doing exac...</td>\n",
       "      <td>4416</td>\n",
       "      <td>1.0</td>\n",
       "      <td>218</td>\n",
       "      <td>/r/depression/comments/ccaxvm/if_10_years_ago_...</td>\n",
       "      <td>coolmast3r</td>\n",
       "      <td>None</td>\n",
       "    </tr>\n",
       "  </tbody>\n",
       "</table>\n",
       "</div>"
      ],
      "text/plain": [
       "       id   created_utc                                              title  \\\n",
       "0  cd0hjp  1.563091e+09  Shout out to the particular hell that is funct...   \n",
       "1  i3ajk8  1.596506e+09  I hate that people don’t understand that i don...   \n",
       "2  ccaxvm  1.562939e+09  If 10 years ago someone told me that in 10 yea...   \n",
       "\n",
       "   is_self                                           selftext  score  \\\n",
       "0     True  This is me. Don’t get me wrong, it’s better th...   6678   \n",
       "1     True                                                      4723   \n",
       "2     True  But here I am, 24 years old man and doing exac...   4416   \n",
       "\n",
       "   upvote_ratio  num_comments  \\\n",
       "0           1.0           348   \n",
       "1           1.0           260   \n",
       "2           1.0           218   \n",
       "\n",
       "                                           permalink       author  \\\n",
       "0  /r/depression/comments/cd0hjp/shout_out_to_the...  fallen-fawn   \n",
       "1  /r/depression/comments/i3ajk8/i_hate_that_peop...  Nathanvic13   \n",
       "2  /r/depression/comments/ccaxvm/if_10_years_ago_...   coolmast3r   \n",
       "\n",
       "  distinguished  \n",
       "0          None  \n",
       "1          None  \n",
       "2          None  "
      ]
     },
     "execution_count": 21,
     "metadata": {},
     "output_type": "execute_result"
    }
   ],
   "source": [
    "df_depression_praw.head(3)"
   ]
  },
  {
   "cell_type": "code",
   "execution_count": 22,
   "id": "ad3a7b1f-c301-4c2e-82f3-384d47d0fe9e",
   "metadata": {},
   "outputs": [],
   "source": [
    "pd.DataFrame(df_anxiety_praw).to_csv('../datasets/anxiety_praw.csv', index = False)"
   ]
  },
  {
   "cell_type": "code",
   "execution_count": 23,
   "id": "8d084b5a-7e34-479d-b4c8-1cad7fc12882",
   "metadata": {},
   "outputs": [],
   "source": [
    "pd.DataFrame(df_depression_praw).to_csv('../datasets/depression_praw.csv', index = False)"
   ]
  }
 ],
 "metadata": {
  "kernelspec": {
   "display_name": "Python 3 (ipykernel)",
   "language": "python",
   "name": "python3"
  },
  "language_info": {
   "codemirror_mode": {
    "name": "ipython",
    "version": 3
   },
   "file_extension": ".py",
   "mimetype": "text/x-python",
   "name": "python",
   "nbconvert_exporter": "python",
   "pygments_lexer": "ipython3",
   "version": "3.9.12"
  }
 },
 "nbformat": 4,
 "nbformat_minor": 5
}
