{
 "cells": [
  {
   "cell_type": "markdown",
   "id": "d6fd1ce9-0a78-4d08-a518-65966bf6fa79",
   "metadata": {},
   "source": [
    "# Import Libraries"
   ]
  },
  {
   "cell_type": "code",
   "execution_count": 1,
   "id": "e31a2f54-c6c7-47fb-a836-13a3c5d47f04",
   "metadata": {},
   "outputs": [
    {
     "name": "stderr",
     "output_type": "stream",
     "text": [
      "/var/folders/90/274n3kt55bl4fjg8t134196r0000gn/T/ipykernel_2645/912544645.py:7: FutureWarning: The demoji.download_codes attribute is deprecated and will be removed from demoji in a future version. It is an unused attribute as emoji codes are now distributed directly with the demoji package.\n",
      "  demoji.download_codes() # download the emoji library\n"
     ]
    }
   ],
   "source": [
    "# Importing libraries needed for data cleaning and EDA\n",
    "import pandas as pd\n",
    "import numpy as np\n",
    "import nltk\n",
    "import re\n",
    "import demoji\n",
    "demoji.download_codes() # download the emoji library\n",
    "from nltk.stem import WordNetLemmatizer\n",
    "from nltk.corpus import stopwords\n",
    "from nltk import ngrams\n",
    "import matplotlib.pyplot as plt\n",
    "import seaborn as sns\n",
    "from wordcloud import WordCloud\n",
    "from collections import Counter\n",
    "from nltk.sentiment.vader import SentimentIntensityAnalyzer"
   ]
  },
  {
   "cell_type": "code",
   "execution_count": 2,
   "id": "87a5638a-5921-4176-b55b-c60b4dc84a57",
   "metadata": {},
   "outputs": [],
   "source": [
    "# import scraped data which utilised praw API\n",
    "df_anxiety_praw = pd.read_csv('../datasets/anxiety_praw.csv')\n",
    "df_depression_praw = pd.read_csv('../datasets/depression_praw.csv')"
   ]
  },
  {
   "cell_type": "code",
   "execution_count": 3,
   "id": "434eb620-addd-4cac-ae19-f0668437a22e",
   "metadata": {},
   "outputs": [],
   "source": [
    "# convert from unix timestamp to datetime format\n",
    "df_depression_praw['created_utc'] = pd.to_datetime(df_depression_praw['created_utc'], unit='s')"
   ]
  },
  {
   "cell_type": "code",
   "execution_count": 4,
   "id": "ba93b581-0196-4505-9d4d-31f808df1489",
   "metadata": {},
   "outputs": [],
   "source": [
    "# convert from unix timestamp to datetime format\n",
    "df_anxiety_praw['created_utc'] = pd.to_datetime(df_anxiety_praw['created_utc'], unit='s')"
   ]
  },
  {
   "cell_type": "code",
   "execution_count": 5,
   "id": "505f6a2d-0522-4084-8bef-b400e7ef9074",
   "metadata": {},
   "outputs": [
    {
     "data": {
      "text/html": [
       "<div>\n",
       "<style scoped>\n",
       "    .dataframe tbody tr th:only-of-type {\n",
       "        vertical-align: middle;\n",
       "    }\n",
       "\n",
       "    .dataframe tbody tr th {\n",
       "        vertical-align: top;\n",
       "    }\n",
       "\n",
       "    .dataframe thead th {\n",
       "        text-align: right;\n",
       "    }\n",
       "</style>\n",
       "<table border=\"1\" class=\"dataframe\">\n",
       "  <thead>\n",
       "    <tr style=\"text-align: right;\">\n",
       "      <th></th>\n",
       "      <th>id</th>\n",
       "      <th>created_utc</th>\n",
       "      <th>title</th>\n",
       "      <th>is_self</th>\n",
       "      <th>selftext</th>\n",
       "      <th>score</th>\n",
       "      <th>upvote_ratio</th>\n",
       "      <th>num_comments</th>\n",
       "      <th>permalink</th>\n",
       "      <th>author</th>\n",
       "      <th>distinguished</th>\n",
       "    </tr>\n",
       "  </thead>\n",
       "  <tbody>\n",
       "    <tr>\n",
       "      <th>0</th>\n",
       "      <td>8zcjh1</td>\n",
       "      <td>2018-07-16 16:51:58</td>\n",
       "      <td>Despite the anxiety, despite the depression, d...</td>\n",
       "      <td>False</td>\n",
       "      <td>NaN</td>\n",
       "      <td>7836</td>\n",
       "      <td>0.99</td>\n",
       "      <td>293</td>\n",
       "      <td>/r/Anxiety/comments/8zcjh1/despite_the_anxiety...</td>\n",
       "      <td>WoollyNinja</td>\n",
       "      <td>NaN</td>\n",
       "    </tr>\n",
       "    <tr>\n",
       "      <th>1</th>\n",
       "      <td>b18zmk</td>\n",
       "      <td>2019-03-15 01:55:17</td>\n",
       "      <td>Today I promised myself bacon and eggs if I co...</td>\n",
       "      <td>False</td>\n",
       "      <td>NaN</td>\n",
       "      <td>6048</td>\n",
       "      <td>0.99</td>\n",
       "      <td>242</td>\n",
       "      <td>/r/Anxiety/comments/b18zmk/today_i_promised_my...</td>\n",
       "      <td>Becky-and-Momo</td>\n",
       "      <td>NaN</td>\n",
       "    </tr>\n",
       "  </tbody>\n",
       "</table>\n",
       "</div>"
      ],
      "text/plain": [
       "       id         created_utc  \\\n",
       "0  8zcjh1 2018-07-16 16:51:58   \n",
       "1  b18zmk 2019-03-15 01:55:17   \n",
       "\n",
       "                                               title  is_self selftext  score  \\\n",
       "0  Despite the anxiety, despite the depression, d...    False      NaN   7836   \n",
       "1  Today I promised myself bacon and eggs if I co...    False      NaN   6048   \n",
       "\n",
       "   upvote_ratio  num_comments  \\\n",
       "0          0.99           293   \n",
       "1          0.99           242   \n",
       "\n",
       "                                           permalink          author  \\\n",
       "0  /r/Anxiety/comments/8zcjh1/despite_the_anxiety...     WoollyNinja   \n",
       "1  /r/Anxiety/comments/b18zmk/today_i_promised_my...  Becky-and-Momo   \n",
       "\n",
       "  distinguished  \n",
       "0           NaN  \n",
       "1           NaN  "
      ]
     },
     "execution_count": 5,
     "metadata": {},
     "output_type": "execute_result"
    }
   ],
   "source": [
    "# preview\n",
    "df_anxiety_praw.head(2)"
   ]
  },
  {
   "cell_type": "code",
   "execution_count": 6,
   "id": "5340ff91-f02b-45af-b71e-e69d4c274d99",
   "metadata": {},
   "outputs": [
    {
     "data": {
      "text/html": [
       "<div>\n",
       "<style scoped>\n",
       "    .dataframe tbody tr th:only-of-type {\n",
       "        vertical-align: middle;\n",
       "    }\n",
       "\n",
       "    .dataframe tbody tr th {\n",
       "        vertical-align: top;\n",
       "    }\n",
       "\n",
       "    .dataframe thead th {\n",
       "        text-align: right;\n",
       "    }\n",
       "</style>\n",
       "<table border=\"1\" class=\"dataframe\">\n",
       "  <thead>\n",
       "    <tr style=\"text-align: right;\">\n",
       "      <th></th>\n",
       "      <th>id</th>\n",
       "      <th>created_utc</th>\n",
       "      <th>title</th>\n",
       "      <th>is_self</th>\n",
       "      <th>selftext</th>\n",
       "      <th>score</th>\n",
       "      <th>upvote_ratio</th>\n",
       "      <th>num_comments</th>\n",
       "      <th>permalink</th>\n",
       "      <th>author</th>\n",
       "      <th>distinguished</th>\n",
       "    </tr>\n",
       "  </thead>\n",
       "  <tbody>\n",
       "    <tr>\n",
       "      <th>0</th>\n",
       "      <td>cd0hjp</td>\n",
       "      <td>2019-07-14 07:53:40</td>\n",
       "      <td>Shout out to the particular hell that is funct...</td>\n",
       "      <td>True</td>\n",
       "      <td>This is me. Don’t get me wrong, it’s better th...</td>\n",
       "      <td>6678</td>\n",
       "      <td>1.0</td>\n",
       "      <td>348</td>\n",
       "      <td>/r/depression/comments/cd0hjp/shout_out_to_the...</td>\n",
       "      <td>fallen-fawn</td>\n",
       "      <td>NaN</td>\n",
       "    </tr>\n",
       "    <tr>\n",
       "      <th>1</th>\n",
       "      <td>i3ajk8</td>\n",
       "      <td>2020-08-04 01:57:38</td>\n",
       "      <td>I hate that people don’t understand that i don...</td>\n",
       "      <td>True</td>\n",
       "      <td>NaN</td>\n",
       "      <td>4723</td>\n",
       "      <td>1.0</td>\n",
       "      <td>260</td>\n",
       "      <td>/r/depression/comments/i3ajk8/i_hate_that_peop...</td>\n",
       "      <td>Nathanvic13</td>\n",
       "      <td>NaN</td>\n",
       "    </tr>\n",
       "  </tbody>\n",
       "</table>\n",
       "</div>"
      ],
      "text/plain": [
       "       id         created_utc  \\\n",
       "0  cd0hjp 2019-07-14 07:53:40   \n",
       "1  i3ajk8 2020-08-04 01:57:38   \n",
       "\n",
       "                                               title  is_self  \\\n",
       "0  Shout out to the particular hell that is funct...     True   \n",
       "1  I hate that people don’t understand that i don...     True   \n",
       "\n",
       "                                            selftext  score  upvote_ratio  \\\n",
       "0  This is me. Don’t get me wrong, it’s better th...   6678           1.0   \n",
       "1                                                NaN   4723           1.0   \n",
       "\n",
       "   num_comments                                          permalink  \\\n",
       "0           348  /r/depression/comments/cd0hjp/shout_out_to_the...   \n",
       "1           260  /r/depression/comments/i3ajk8/i_hate_that_peop...   \n",
       "\n",
       "        author distinguished  \n",
       "0  fallen-fawn           NaN  \n",
       "1  Nathanvic13           NaN  "
      ]
     },
     "execution_count": 6,
     "metadata": {},
     "output_type": "execute_result"
    }
   ],
   "source": [
    "# preview\n",
    "df_depression_praw.head(2)"
   ]
  },
  {
   "cell_type": "markdown",
   "id": "a1a902a8-f29f-4682-8d3e-c95795296d13",
   "metadata": {},
   "source": [
    "___"
   ]
  },
  {
   "cell_type": "markdown",
   "id": "4c11b12b-9e6e-4cfc-b566-6fadad4c6d36",
   "metadata": {},
   "source": [
    "# Descriptive Statistics"
   ]
  },
  {
   "cell_type": "code",
   "execution_count": 7,
   "id": "937c91d7-ae5c-4f2c-9258-f63dc2e7888e",
   "metadata": {},
   "outputs": [
    {
     "data": {
      "text/html": [
       "<div>\n",
       "<style scoped>\n",
       "    .dataframe tbody tr th:only-of-type {\n",
       "        vertical-align: middle;\n",
       "    }\n",
       "\n",
       "    .dataframe tbody tr th {\n",
       "        vertical-align: top;\n",
       "    }\n",
       "\n",
       "    .dataframe thead th {\n",
       "        text-align: right;\n",
       "    }\n",
       "</style>\n",
       "<table border=\"1\" class=\"dataframe\">\n",
       "  <thead>\n",
       "    <tr style=\"text-align: right;\">\n",
       "      <th></th>\n",
       "      <th>score</th>\n",
       "      <th>upvote_ratio</th>\n",
       "      <th>num_comments</th>\n",
       "    </tr>\n",
       "  </thead>\n",
       "  <tbody>\n",
       "    <tr>\n",
       "      <th>count</th>\n",
       "      <td>996.000000</td>\n",
       "      <td>996.000000</td>\n",
       "      <td>996.000000</td>\n",
       "    </tr>\n",
       "    <tr>\n",
       "      <th>mean</th>\n",
       "      <td>1397.204819</td>\n",
       "      <td>0.990934</td>\n",
       "      <td>132.410643</td>\n",
       "    </tr>\n",
       "    <tr>\n",
       "      <th>std</th>\n",
       "      <td>669.388178</td>\n",
       "      <td>0.012402</td>\n",
       "      <td>672.385349</td>\n",
       "    </tr>\n",
       "    <tr>\n",
       "      <th>min</th>\n",
       "      <td>864.000000</td>\n",
       "      <td>0.880000</td>\n",
       "      <td>14.000000</td>\n",
       "    </tr>\n",
       "    <tr>\n",
       "      <th>25%</th>\n",
       "      <td>1010.000000</td>\n",
       "      <td>0.990000</td>\n",
       "      <td>63.000000</td>\n",
       "    </tr>\n",
       "    <tr>\n",
       "      <th>50%</th>\n",
       "      <td>1194.000000</td>\n",
       "      <td>0.990000</td>\n",
       "      <td>92.000000</td>\n",
       "    </tr>\n",
       "    <tr>\n",
       "      <th>75%</th>\n",
       "      <td>1504.000000</td>\n",
       "      <td>1.000000</td>\n",
       "      <td>125.000000</td>\n",
       "    </tr>\n",
       "    <tr>\n",
       "      <th>max</th>\n",
       "      <td>7836.000000</td>\n",
       "      <td>1.000000</td>\n",
       "      <td>18684.000000</td>\n",
       "    </tr>\n",
       "  </tbody>\n",
       "</table>\n",
       "</div>"
      ],
      "text/plain": [
       "             score  upvote_ratio  num_comments\n",
       "count   996.000000    996.000000    996.000000\n",
       "mean   1397.204819      0.990934    132.410643\n",
       "std     669.388178      0.012402    672.385349\n",
       "min     864.000000      0.880000     14.000000\n",
       "25%    1010.000000      0.990000     63.000000\n",
       "50%    1194.000000      0.990000     92.000000\n",
       "75%    1504.000000      1.000000    125.000000\n",
       "max    7836.000000      1.000000  18684.000000"
      ]
     },
     "execution_count": 7,
     "metadata": {},
     "output_type": "execute_result"
    }
   ],
   "source": [
    "df_anxiety_praw.describe()"
   ]
  },
  {
   "cell_type": "code",
   "execution_count": 8,
   "id": "c027518e-b4fd-4530-8830-00adf39728c4",
   "metadata": {},
   "outputs": [
    {
     "data": {
      "text/html": [
       "<div>\n",
       "<style scoped>\n",
       "    .dataframe tbody tr th:only-of-type {\n",
       "        vertical-align: middle;\n",
       "    }\n",
       "\n",
       "    .dataframe tbody tr th {\n",
       "        vertical-align: top;\n",
       "    }\n",
       "\n",
       "    .dataframe thead th {\n",
       "        text-align: right;\n",
       "    }\n",
       "</style>\n",
       "<table border=\"1\" class=\"dataframe\">\n",
       "  <thead>\n",
       "    <tr style=\"text-align: right;\">\n",
       "      <th></th>\n",
       "      <th>score</th>\n",
       "      <th>upvote_ratio</th>\n",
       "      <th>num_comments</th>\n",
       "    </tr>\n",
       "  </thead>\n",
       "  <tbody>\n",
       "    <tr>\n",
       "      <th>count</th>\n",
       "      <td>969.000000</td>\n",
       "      <td>969.000000</td>\n",
       "      <td>969.000000</td>\n",
       "    </tr>\n",
       "    <tr>\n",
       "      <th>mean</th>\n",
       "      <td>1724.638803</td>\n",
       "      <td>0.992879</td>\n",
       "      <td>174.194014</td>\n",
       "    </tr>\n",
       "    <tr>\n",
       "      <th>std</th>\n",
       "      <td>658.385547</td>\n",
       "      <td>0.008459</td>\n",
       "      <td>474.880330</td>\n",
       "    </tr>\n",
       "    <tr>\n",
       "      <th>min</th>\n",
       "      <td>790.000000</td>\n",
       "      <td>0.910000</td>\n",
       "      <td>28.000000</td>\n",
       "    </tr>\n",
       "    <tr>\n",
       "      <th>25%</th>\n",
       "      <td>1227.000000</td>\n",
       "      <td>0.990000</td>\n",
       "      <td>96.000000</td>\n",
       "    </tr>\n",
       "    <tr>\n",
       "      <th>50%</th>\n",
       "      <td>1568.000000</td>\n",
       "      <td>0.990000</td>\n",
       "      <td>130.000000</td>\n",
       "    </tr>\n",
       "    <tr>\n",
       "      <th>75%</th>\n",
       "      <td>2060.000000</td>\n",
       "      <td>1.000000</td>\n",
       "      <td>172.000000</td>\n",
       "    </tr>\n",
       "    <tr>\n",
       "      <th>max</th>\n",
       "      <td>6678.000000</td>\n",
       "      <td>1.000000</td>\n",
       "      <td>8625.000000</td>\n",
       "    </tr>\n",
       "  </tbody>\n",
       "</table>\n",
       "</div>"
      ],
      "text/plain": [
       "             score  upvote_ratio  num_comments\n",
       "count   969.000000    969.000000    969.000000\n",
       "mean   1724.638803      0.992879    174.194014\n",
       "std     658.385547      0.008459    474.880330\n",
       "min     790.000000      0.910000     28.000000\n",
       "25%    1227.000000      0.990000     96.000000\n",
       "50%    1568.000000      0.990000    130.000000\n",
       "75%    2060.000000      1.000000    172.000000\n",
       "max    6678.000000      1.000000   8625.000000"
      ]
     },
     "execution_count": 8,
     "metadata": {},
     "output_type": "execute_result"
    }
   ],
   "source": [
    "df_depression_praw.describe()"
   ]
  },
  {
   "cell_type": "markdown",
   "id": "33a1707c-3a7a-48a6-9693-d74c088e256c",
   "metadata": {},
   "source": [
    "## Information on two subreddits - r/depression and r/anxiety"
   ]
  },
  {
   "cell_type": "markdown",
   "id": "18852c36-f64a-47a7-904e-a643ddbb453d",
   "metadata": {},
   "source": [
    "An overview of total members, activity and engagement levels."
   ]
  },
  {
   "cell_type": "markdown",
   "id": "3128ddc4-c0bc-43b9-935a-b21814c56b26",
   "metadata": {},
   "source": [
    "### r/depression"
   ]
  },
  {
   "cell_type": "markdown",
   "id": "56cc058d-35ef-46b9-aceb-b0e406fdd3e6",
   "metadata": {},
   "source": [
    "![r/depression subreddit information](../images/r_depression_subreddit_info.png)"
   ]
  },
  {
   "cell_type": "markdown",
   "id": "9d2d0061-8421-4dc9-9729-7c9f245eb9bd",
   "metadata": {},
   "source": [
    "### r/anxiety"
   ]
  },
  {
   "cell_type": "markdown",
   "id": "376becc5-4731-4f19-ae0f-e6be59b32491",
   "metadata": {},
   "source": [
    "![r/anxiety subreddit information](../images/r_anxiety_subreddit_info.png)"
   ]
  },
  {
   "cell_type": "markdown",
   "id": "310356ba-ee73-4242-9912-b0fa0600295a",
   "metadata": {},
   "source": [
    "***Key findings:*** </br>\n",
    "Based from the two subreddits, `r/depression` has approximately 942k members while `r/anxiety` has approximately 597k members. </br> </br>From the scrapped data and high level statistics, the engagement and activity level of members can be uncovered: </br>\n",
    "___Engagement Level___\n",
    "- Posts with high upvote ratio indicates that users are generally positive about the content and are more likely to engage with it by commenting or upvoting. Posts with low upvote ratio, may indicate that the content is controversial or unpopular, which can lead to less engagement.\n",
    "- `r/depression` has a slightly higher mean upvote_ratio than `r/anxiety` (0.992887 vs 0.990944) which indicates that users in `r/depression` are slightly more engaged.\n",
    "\n",
    "___Activity Level___\n",
    "- Scores and number of comments are able to inform us on the activity level of a subreddit.\n",
    "- Posts with a high score and large number of comments indicate that the subreddit is active and users are engaged in discussions. Posts with a low score and fewer comments may indicate a less active subreddit.\n",
    "- `r/depression` has a higher mean score (1725 vs 1396) and higher mean number of comments (174 vs 132) than `r/anxiety`, which indicates that the users in `r/depression` are more active."
   ]
  },
  {
   "cell_type": "markdown",
   "id": "3c83ee1b-0338-4620-8560-966ebc2b9792",
   "metadata": {},
   "source": [
    "## Moderator Activity"
   ]
  },
  {
   "cell_type": "code",
   "execution_count": 9,
   "id": "7599f46c-866f-4619-bc2b-ae76cbf31292",
   "metadata": {},
   "outputs": [
    {
     "data": {
      "text/plain": [
       "array([nan, 'moderator'], dtype=object)"
      ]
     },
     "execution_count": 9,
     "metadata": {},
     "output_type": "execute_result"
    }
   ],
   "source": [
    "# unique values for distinguished column\n",
    "df_depression_praw['distinguished'].unique()"
   ]
  },
  {
   "cell_type": "code",
   "execution_count": 10,
   "id": "f94c8705-8045-41bc-a35e-4a487ba56fd8",
   "metadata": {},
   "outputs": [
    {
     "data": {
      "text/plain": [
       "array([nan, 'moderator'], dtype=object)"
      ]
     },
     "execution_count": 10,
     "metadata": {},
     "output_type": "execute_result"
    }
   ],
   "source": [
    "# unique values for distinguished column\n",
    "df_anxiety_praw['distinguished'].unique()"
   ]
  },
  {
   "cell_type": "code",
   "execution_count": 11,
   "id": "b5b74729-f198-484b-b83b-bd845dc6e1f7",
   "metadata": {},
   "outputs": [
    {
     "data": {
      "text/plain": [
       "6"
      ]
     },
     "execution_count": 11,
     "metadata": {},
     "output_type": "execute_result"
    }
   ],
   "source": [
    "# number of moderator posts within the top 1000\n",
    "df_depression_praw['distinguished'].isin(['moderator']).sum()"
   ]
  },
  {
   "cell_type": "code",
   "execution_count": 12,
   "id": "bcdb83e7-9296-43f9-b656-439c3e068a36",
   "metadata": {},
   "outputs": [
    {
     "data": {
      "text/plain": [
       "2"
      ]
     },
     "execution_count": 12,
     "metadata": {},
     "output_type": "execute_result"
    }
   ],
   "source": [
    "# number of moderator posts within the top 1000\n",
    "df_anxiety_praw['distinguished'].isin(['moderator']).sum()"
   ]
  },
  {
   "cell_type": "markdown",
   "id": "14f62210-45fb-4717-bb86-421f90c847cb",
   "metadata": {},
   "source": [
    "***Key findings:*** </br>\n",
    "- Top 1000 posts from both subreddits had extremely low moderators contribution (6 for `r/depression` and 2 for `r/anxiety`).\n",
    "- This suggests that the top posts in subreddits are typically not made by moderators, and that the most popular content in a subreddit is often generated by regular users rather than moderators or admins."
   ]
  },
  {
   "cell_type": "code",
   "execution_count": 13,
   "id": "2536bdd0-94c4-49a6-89c5-b7f131907c82",
   "metadata": {},
   "outputs": [],
   "source": [
    "# dataframe for moderator posts - r/depression\n",
    "depression_moderator_posts_df = df_depression_praw[df_depression_praw['distinguished'] == 'moderator']"
   ]
  },
  {
   "cell_type": "code",
   "execution_count": 14,
   "id": "4b747cac-c075-4fc2-a654-1e3de57663ca",
   "metadata": {
    "scrolled": true,
    "tags": []
   },
   "outputs": [
    {
     "name": "stdout",
     "output_type": "stream",
     "text": [
      "Title: Our most-broken and least-understood rules is \"helpers may not invite private contact as a first resort\", so we've made a new wiki to explain it\n",
      "\n",
      "Content: We understand that most people who reply immediately to an OP with an invitation to talk privately  mean only to help, but this type of response usually leads to either disappointment or disaster.  it usually works out quite differently here than when you say \"PM me anytime\" in a casual social context.  \n",
      "\n",
      "We have huge admiration and appreciation for the goodwill and good citizenship of so many of you who support others here and flag inappropriate content - even more so because we know that so many of you are struggling yourselves.  We're hard at work behind the scenes on more information and resources to make it easier to give and get quality help here - this is just a small start.  \n",
      "\n",
      "Our new wiki page explains in detail why it's much better to respond in public comments, at least until you've gotten to know someone.  It will be maintained at /r/depression/wiki/private_contact, and the full text of the current version is below.\n",
      "\n",
      "*****\n",
      "\n",
      "###Summary###\n",
      "\n",
      "**Anyone who, while acting as a helper, invites or accepts private contact (I.e. PMs, chat, or any kind of offsite communication) early in the conversion is showing either bad intentions or bad judgement.  Either way, it's unwise to trust them.** \n",
      "\n",
      "\n",
      "\"PM me anytime\" seems like a kind and generous offer. And it might be perfectly well-meaning, but, unless and until a solid rapport has been established, it's just not a wise idea.  Here are some points to consider before you offer or accept an invitation to communicate privately.\n",
      "\n",
      "* **By posting supportive replies publicly, you'll help more people than just the OP. If your responses are of good quality, you'll educate and inspire other helpers.** [The 1-9-90 rule](https://en.wikipedia.org/wiki/1%25_rule_(Internet_culture\\)) applies here as much as it does anywhere else on the internet.  \n",
      "\n",
      "* People who are struggling with serious mental-health issues often (justifiably) have a low tolerance for disappointment and a high-level of ever-changing emotional need. **Unless the helper is able to make a 100% commitment to be there for them in every way, for as long as necessary, offering a personal inbox as a resource is likely to do more harm than good.** This is why mental-health crisis-line responders usually don't give their names and callers aren't allowed to request specific responders.  It's much healthier and safer for the callers to develop a relationship with the agency as a whole.  Analogously, it's much safer and healthier for our OPs to develop a relationship with the community as a whole.  Even trained responders are generally not allowed to work high-intensity situations alone.  It's partly about availability, but it's mostly about wider perspective and preventing compassion fatigue. \n",
      "\n",
      "* **If a helper gets in over their head with someone whose mental-health issues (including suicidality, which is often comorbid with depression) escalate, in a PM conversation it's much harder for others, including the /r/depression and /r/SuicideWatch moderators to help**.  (Contrary to common assumptions, moderators can't see or police PMs.)  \n",
      "\n",
      "* In our observation over many years, the people who say \"PM me\" the most are consistently the ones with the least understanding of mental-health issues and mental-health support. We all have gaps in our knowledge and in our ability to communicate effectively.  Community input mitigates these limitations. **There's no reason why someone who's truly here to help would want to hide their responses from community scrutiny**.  If helpers are concerned about their own privacy, keep in mind that self-disclosure, when used supportively, is more about the feelings than the details, and that we have no problem here with the use of alt/throwaway accounts, and have no restrictions on account age or karma.  \n",
      "\n",
      "*  We all know the internet is used by some people to exploit or abuse others.  These people *do* want to hide their deceptive and manipulative responses from everyone except their victims. There are many of them who specifically target those who are vulnerable because of mental-health issues. **If a helper invites an OP to talk privately and gives them a good, supportive experience, they've primed that person to be more vulnerable to abusers.** This sort of cognitive priming tends to be particularly effective when someone's in a state of mental-health crisis, when people rely more on heuristics than critical reasoning.\n",
      "\n",
      "* If OPs want to talk privately, posting on a wide-open anonymous forum like reddit might not be the best option. Although we don't recommend it, we do allow OPs to request private contact when asking for support. If you want to do this, please keep your expectations realistic, and to have a careful look at the history of anyone who offers to PM before opening up to them.\n",
      "\n",
      "------------------------------\n",
      "\n",
      "Title: Regular Check-In Post\n",
      "\n",
      "Content: Welcome to /r/depression's check-in post - a place to take a moment and share what is going on and how you are doing. If you have an accomplishment you want to talk about (these shouldn't be standalone posts in the sub as they violate the \"role model\" rule, but are welcome here), or are having a tough time but prefer not to make your own post, this is a place you can share.\n",
      "\n",
      "We try our best to keep this space as safe and supportive as possible on reddit's wide-open anonymity-friendly platform. The community rules can be found in the sidebar, or under \"Community Info\" in the official mobile apps. If you aren't sure about a rule, please ask us.\n",
      "\n",
      "------------------------------\n",
      "\n",
      "Title: Reminder: NO ACTIVISM is allowed here at any time.\n",
      "\n",
      "Content: We know that September 10 was World Suicide Prevention Day. And, we're all for activism. But not here, please and thank you. It takes focus away from our OPs in need of support and understanding. \n",
      "\n",
      "------------------------------\n",
      "\n",
      "Title: Regular Check-In Post. Plus, a reminder about the No-Activism Rule.\n",
      "\n",
      "Content: Welcome to /r/depression's check-in post - a place to take a moment and share what is going on and how you are doing. If you have an accomplishment you want to talk about (these shouldn't be standalone posts in the sub as they violate the \"role model\" rule, but are welcome here), or are having a tough time but prefer not to make your own post, this is a place you can share.\n",
      "\n",
      "We try our best to keep this space as safe and supportive as possible on reddit's wide-open anonymity-friendly platform. The community rules can be found in the sidebar, or under \"Community Info\" in the official mobile apps. If you aren't sure about a rule, please ask us.  \n",
      "\n",
      "********\n",
      "\n",
      "Please keep in mind that no activism, i.e.  advocating or fundraising for social change or raising awareness of social issues, is ever allowed here.  It's not that we're against activism.  We're strongly in favour of it.  But we've learned the hard way that it doesn't work within a dedicated support space, so with regret, we can't allow it any more.  Thanks for understanding.  Please report any fundraising, awareness raising, petitions, calls for participation, or any post that's mainly about a cause or an issue rather than a request for personal support.\n",
      "\n",
      "------------------------------\n",
      "\n",
      "Title: Warning: We're being targeted by a PM-spammer promoting a blog at mentorself.com\n",
      "\n",
      "Content: ###Update (Friday March 9, 11:45PST):  This person has now made several new accounts and is using chat more and PMs less.  The admins have requested that we ask everyone to report chats from the spammer trying to get you to visit mentorself.com  \n",
      "\n",
      "### * On desktop you can report by pausing the mouse over the flag icon.  \n",
      "\n",
      "### * On mobile (at least the official app on Android), long-press the message and a \"report\" option will pop up.  \n",
      "\n",
      "Previous Update:  We've been informed by the reddit admins that this issue has been actioned, but we're going to leave this post up for a while in case they try to sneak back in.  If you post or comment and then get a chat request or PM that appears similar to the description here, [please let us know](http://www.reddit.com/message/compose?to=%2Fr%2Fdepression).\n",
      "\n",
      "If you get a PM or Chat after posting here promoting an amateur self-help blog at either mentorself.com or mentorself.wordpress.com, please be aware that this person appears to be broadcast spamming everyone who posts here.   Although we deplore this person's actions, we can't see or police PMs because they don't \"belong\" to any specific subreddit.  \n",
      "\n",
      "Please report ALL PMs and Chat requests promoting this site to the reddit admins.   If you're using desktop, there's a \"report\" link under every PM.  Some mobile apps and clients offer a report option but not all, so if you can't find one, you can also report PMs by sending details to /r/reddit.com.  Use \"spam\" as the subject line, and be sure to specify that you got the spam to a post you made in /r/depression.\n",
      "\n",
      "Thanks everyone.  We're disgusted that this person is exploiting our community this way.  \n",
      "\n",
      "EDIT:  If you need an indication of  how the intelligence of this person rates compares to their energy level, they're tried TWICE to spam their blog to *ME* in response to this post!  \n",
      "\n",
      "------------------------------\n",
      "\n",
      "Title: Regular Check-In Post\n",
      "\n",
      "Content: Welcome to /r/depression's check-in post - a place to take a moment and share what is going on and how you are doing. If you have an accomplishment you want to talk about (these shouldn't be standalone posts in the sub as they violate the \"role model\" rule, but are welcome here), or are having a tough time but prefer not to make your own post, this is a place you can share.\n",
      "\n",
      "We try our best to keep this space as safe and supportive as possible on reddit's wide-open anonymity-friendly platform. The community rules can be found in the sidebar, or under \"Community Info\" in the official mobile apps. If you aren't sure about a rule, please ask us.\n",
      "\n",
      "------------------------------\n",
      "\n"
     ]
    }
   ],
   "source": [
    "# view posts from moderators\n",
    "for _, row in depression_moderator_posts_df.iterrows():\n",
    "    print(f\"Title: {row['title']}\\n\")\n",
    "    print(f\"Content: {row['selftext']}\\n\")\n",
    "    print(\"------------------------------\\n\")"
   ]
  },
  {
   "cell_type": "code",
   "execution_count": 15,
   "id": "aaafcf07-df6e-4e11-8965-8162475981c7",
   "metadata": {},
   "outputs": [],
   "source": [
    "# dataframe for moderator posts - r/anxiety\n",
    "anxiety_moderator_posts_df = df_anxiety_praw[df_anxiety_praw['distinguished'] == 'moderator']"
   ]
  },
  {
   "cell_type": "code",
   "execution_count": 16,
   "id": "eff655bc-cc03-44cd-8f3d-80a443bc0923",
   "metadata": {
    "scrolled": true,
    "tags": []
   },
   "outputs": [
    {
     "name": "stdout",
     "output_type": "stream",
     "text": [
      "Title: How to Breathe (a better way)\n",
      "\n",
      "Content: Hey team! \n",
      "\n",
      "I hope your holidays went well, and if not, I’m glad to tell you that you survived them and are here to talk about it!\n",
      "\n",
      "If you’re here looking for a particular thread, please check out the following: \n",
      "\n",
      "* [2020 Umbrella Thread](https://www.reddit.com/r/Anxiety/comments/h036q3/2020_umbrella_thread/)\n",
      "* [Good News Coronavirus Thread 2](https://www.reddit.com/r/Anxiety/comments/ioy7uo/good_news_coronavirus_thread_2/)\n",
      "* [Coronavirus Discussion](https://www.reddit.com/r/Anxiety/comments/izpdus/coronavirus_discussion_thread/) \n",
      "\n",
      "I’d also like to remind everyone that we have an active Discord server: https://discord.gg/9sSCSe9\n",
      "\n",
      "I wanted to talk about breathing.  \n",
      "\n",
      "A very common technique for coping with anxiety is to breathe deeply - you’ve probably heard this or seen it in an infographic.  This is indeed a helpful technique, but unfortunately I don’t think it is explained well and I have often seen users say that it can make their anxiety worse.  This comes as no surprise when in response to anxiety or a panic attack all you hear is “take a breath!”  Great, I’ll do that, thanks.  I’m going to break down the proper technique piece by piece in the hope that it helps someone out.  \n",
      "\n",
      "When you are anxious many people feel like they are hyperventilating and the answer to that is because you tense up and your breathing becomes shallow and “high up” (your breaths are filling your upper lungs) which makes the anxiety worse.  You are, in fact, hyperventilating, but you can fix this.  You are in control of your breath as much as it may not feel like it in a moment of panic.  \n",
      "\n",
      "What you want to do is called [diaphragmatic breathing](https://en.wikipedia.org/wiki/Diaphragmatic_breathing) (or belly breaths if you’re a normal person and not in a medical profession).   To demonstrate this, sit up in a comfortable position and place a hand gently beneath your ribs and on your upper belly - concentrate on expanding this area with each inhale.  This is the breathing you are aiming for.  \n",
      "\n",
      "What we will be doing is commonly called “[box breathing](https://imgur.com/0N53Gah)”.  \n",
      "\n",
      "Taking belly breaths:\n",
      "\n",
      "1. Slowly inhale on a count to four (I find through the nose most effective but breathing through the mouth will do you no harm - just keep it slow). \n",
      "1. Hold the breath for a count to 4\n",
      "1. Exhale for a count to 4\n",
      "1. Hold the empty lungs for a count to 4.  \n",
      "\n",
      "Repeat until your anxiety eases or your breathing resumes a normal rhythm.  \n",
      "\n",
      "That’s it!  I hope this explanation helps out someone, I know it certainly helped me.  Practice it when you’re calm and the next time the anxiety ramps up, give it a try.  I’ve also used this technique to steady myself for taking low-light photos and building card towers.  Bonus.  \n",
      "\n",
      "Love, \n",
      "\n",
      "Remy\n",
      "\n",
      "------------------------------\n",
      "\n",
      "Title: Ukraine Megathread\n",
      "\n",
      "Content: Update 4/15: A group of people from this community have created r/UkraineAnxiety\n",
      "\n",
      "Update 4/13: We have decided to formally close this thread to new comments. We feel that this thread is too taxing for us to moderate and is no longer worth the strain on our mod team like it was back when the situation was brand new. We want to thank everyone who has stuck around to help others stay level-headed through this whole mess!\n",
      "\n",
      "Update 3/27: Due to all the feedback we got from updates 3/20 and 3/21, we have decided to relax the requirements for posting links. You are free to post a link you want help with or to add commentary on to help others understand it in a less anxious way, and now you can once again post links to good news as well as create good news collections (see the current stickied comment which includes some info on reassurance-seeking behavior). Our one requirement is that you should refrain from posting multiple times over a short period with good news links. If someone does this we will begin taking down their comments as spam. In this case it would be better to put together multiple news links and then post them as a single comment.\n",
      "\n",
      "Update 3/22: [Click here to view version 2.0 of the list of most helpful comments and resources](https://www.reddit.com/r/Anxiety/comments/t02f1o/comment/i1pkm2f/?utm_source=share&utm_medium=web2x&context=3)\n",
      "\n",
      "*~~Update 3/21: Please see the current stickied comment for more information. It is ok to include a link that is causing you anxiety and asking people to help explain it better. It is also ok to provide a news link alongside your own commentary about the article to help people understand what it is saying in a less anxious way. We're specifically going to remove comments that have one or more news links without asking for help or providing original commentary about the article.~~*\n",
      "\n",
      "*~~Update 3/20: We have seen a large amount of posts that are mainly about sharing/discussing specific news articles. Please remember to keep everything relevant to anxiety. If a comment is just a news link then we have decided we will have to remove it to keep the thread on topic.~~*\n",
      "\n",
      "Hi everyone,\n",
      "\n",
      "It has been requested that we create a megathread for all of the events that have been happening with regards to the conflict in Ukraine. We decided that this is a good idea since so many people have been experiencing extreme anxiety because of it.\n",
      "\n",
      "We have opted to have this thread be sorted by Best for the time being. To read and respond to the latest comments you can manually change the sort to New. The reason we’re doing this is because we want the most helpful and most grounded comments to float to the top to help as many people as possible keep their anxiety under control during this difficult time.\n",
      "\n",
      "For those who want to talk with other anxiety sufferers in more of a live format, feel free to join our official Discord server with this invite link: [https://discord.com/invite/9sSCSe9](https://discord.com/invite/9sSCSe9). We have added a special channel to it called \"#ukrainediscussion\" so people can talk about what's happening and help each other.\n",
      "\n",
      "As always please remember to be supportive and report any problematic comments so we can remove them as soon as possible.\n",
      "\n",
      "Thanks!\n",
      "\n",
      "The r/Anxiety Mod Team\n",
      "\n",
      "------------------------------\n",
      "\n"
     ]
    }
   ],
   "source": [
    "# view posts from moderators\n",
    "for _, row in anxiety_moderator_posts_df.iterrows():\n",
    "    print(f\"Title: {row['title']}\\n\")\n",
    "    print(f\"Content: {row['selftext']}\\n\")\n",
    "    print(\"------------------------------\\n\")"
   ]
  },
  {
   "cell_type": "markdown",
   "id": "7d8bd36a-3cb3-4622-b551-d0c0d492f347",
   "metadata": {},
   "source": [
    "***Key findings:*** </br>\n",
    "- `r/depression` moderators conduct regular check-ins on users which could have attributed to the higher engagement rates."
   ]
  },
  {
   "cell_type": "markdown",
   "id": "88403bd3-553b-4df3-9632-e85e7d59b251",
   "metadata": {},
   "source": [
    "## Create post_length feature"
   ]
  },
  {
   "cell_type": "code",
   "execution_count": 17,
   "id": "f20c5cc5-8f60-45f6-b29a-5cab038402cf",
   "metadata": {},
   "outputs": [],
   "source": [
    "# length of each post\n",
    "df_depression_praw['post_length'] = df_depression_praw['selftext'].str.len()\n",
    "df_anxiety_praw['post_length'] = df_anxiety_praw['selftext'].str.len()"
   ]
  },
  {
   "cell_type": "markdown",
   "id": "fb7fcb40-feaf-4333-a080-71318450b4a3",
   "metadata": {},
   "source": [
    "___"
   ]
  },
  {
   "cell_type": "markdown",
   "id": "c9de6d2f-7b85-408d-a538-75f4134bc7a9",
   "metadata": {},
   "source": [
    "# Data Cleaning"
   ]
  },
  {
   "cell_type": "markdown",
   "id": "bfd57383-2aa3-468c-88c3-7c66952cf64f",
   "metadata": {},
   "source": [
    "## Null Values"
   ]
  },
  {
   "cell_type": "code",
   "execution_count": 18,
   "id": "349857cb-e6f3-4257-ac54-ccf6555995a3",
   "metadata": {},
   "outputs": [
    {
     "data": {
      "text/plain": [
       "id                 0\n",
       "created_utc        0\n",
       "title              0\n",
       "is_self            0\n",
       "selftext          38\n",
       "score              0\n",
       "upvote_ratio       0\n",
       "num_comments       0\n",
       "permalink          0\n",
       "author           146\n",
       "distinguished    963\n",
       "post_length       38\n",
       "dtype: int64"
      ]
     },
     "execution_count": 18,
     "metadata": {},
     "output_type": "execute_result"
    }
   ],
   "source": [
    "# number of null values for r/depression\n",
    "df_depression_praw.isnull().sum()"
   ]
  },
  {
   "cell_type": "code",
   "execution_count": 19,
   "id": "1c94536c-f8ce-4c31-af40-56cba9c1853f",
   "metadata": {},
   "outputs": [
    {
     "data": {
      "text/plain": [
       "id                 0\n",
       "created_utc        0\n",
       "title              0\n",
       "is_self            0\n",
       "selftext         225\n",
       "score              0\n",
       "upvote_ratio       0\n",
       "num_comments       0\n",
       "permalink          0\n",
       "author           143\n",
       "distinguished    994\n",
       "post_length      225\n",
       "dtype: int64"
      ]
     },
     "execution_count": 19,
     "metadata": {},
     "output_type": "execute_result"
    }
   ],
   "source": [
    "# number of null values for r/anxiety\n",
    "df_anxiety_praw.isnull().sum()"
   ]
  },
  {
   "cell_type": "markdown",
   "id": "a8de7fb4-56cb-4751-b03d-e6bb8d54c750",
   "metadata": {},
   "source": [
    "- It was earlier identified that the `distinguished` column had two values, nan and moderator. nan refers to the non-moderators also known as users. Thus, the NaN values for `distinguished` will be replaced with \"user\"."
   ]
  },
  {
   "cell_type": "code",
   "execution_count": 20,
   "id": "2bc620de-8846-4c69-8d80-551ac1cb69f7",
   "metadata": {},
   "outputs": [],
   "source": [
    "# replace NaN values for distinguished\n",
    "df_depression_praw['distinguished'].fillna(value='user', inplace=True)"
   ]
  },
  {
   "cell_type": "code",
   "execution_count": 21,
   "id": "d83dc7a0-ebd2-494b-832e-27c0b21acf81",
   "metadata": {},
   "outputs": [],
   "source": [
    "# replace NaN values for distinguished\n",
    "df_anxiety_praw['distinguished'].fillna(value='user', inplace=True)"
   ]
  },
  {
   "cell_type": "markdown",
   "id": "ed70738b-15a9-40aa-a244-0d8d35341eb5",
   "metadata": {},
   "source": [
    "- `author` values could be null due to users deleting their accounts on reddit.\n",
    "- `selftext` values could be null as users might just make a post with a title but no context within. We will confirm this below."
   ]
  },
  {
   "cell_type": "code",
   "execution_count": 22,
   "id": "7c6650e3-e518-4548-b898-8cd044b1cfa1",
   "metadata": {},
   "outputs": [],
   "source": [
    "pd.set_option('display.max_colwidth', None)"
   ]
  },
  {
   "cell_type": "code",
   "execution_count": 23,
   "id": "e4c278b6-78a1-401a-bdb2-2bb4a6c43c54",
   "metadata": {},
   "outputs": [],
   "source": [
    "# dataframe for empty selftext columns - r/depression\n",
    "df_depression_nan = df_depression_praw[df_depression_praw['selftext'].isna()]"
   ]
  },
  {
   "cell_type": "code",
   "execution_count": 24,
   "id": "24bcc862-e406-43e3-a904-5f440f31fc1b",
   "metadata": {},
   "outputs": [],
   "source": [
    "# dataframe for empty selftext columns - r/anxiety\n",
    "df_anxiety_nan = df_anxiety_praw[df_anxiety_praw['selftext'].isna()]"
   ]
  },
  {
   "cell_type": "code",
   "execution_count": 25,
   "id": "2033de50-4d1b-40c2-b703-3b6729bb5ed6",
   "metadata": {
    "scrolled": true,
    "tags": []
   },
   "outputs": [
    {
     "data": {
      "text/plain": [
       "1                                                                                                                                                     I hate that people don’t understand that i don’t want to kill myself, I just don’t want to be alive anymore\n",
       "25    How do you tell someone... I'm not ignoring you right now. I'm just disconnected from reality right now, the days are all blurred together, and I feel completely numb towards everything around me. So it's really hard for me to maintain a conversation.\n",
       "Name: title, dtype: object"
      ]
     },
     "execution_count": 25,
     "metadata": {},
     "output_type": "execute_result"
    }
   ],
   "source": [
    "df_depression_nan['title'].head(2)"
   ]
  },
  {
   "cell_type": "code",
   "execution_count": 26,
   "id": "0645803a-4629-4b0e-ba1e-2d42c78d3f07",
   "metadata": {
    "scrolled": true,
    "tags": []
   },
   "outputs": [
    {
     "data": {
      "text/plain": [
       "0                                                             Despite the anxiety, despite the depression, despite all my self criticism and imperfections - I was a beautiful bride this Saturday!\n",
       "1    Today I promised myself bacon and eggs if I could get myself to a coffee meet up. I was too anxious to attend last week. Guess who got bacon and eggs?!! Feeling so proud of myself for going.\n",
       "Name: title, dtype: object"
      ]
     },
     "execution_count": 26,
     "metadata": {},
     "output_type": "execute_result"
    }
   ],
   "source": [
    "df_anxiety_nan['title'].head(2)"
   ]
  },
  {
   "cell_type": "code",
   "execution_count": 27,
   "id": "fbec43d2-1d21-4143-b993-9158909a1b09",
   "metadata": {},
   "outputs": [],
   "source": [
    "# Reset the maximum column width to its default value\n",
    "pd.reset_option('display.max_colwidth')"
   ]
  },
  {
   "cell_type": "markdown",
   "id": "5686f928-ff91-47ca-96c1-02e041ebdc54",
   "metadata": {},
   "source": [
    "- NaN values for `author` and `selftext` will be replaced with blanks.\n",
    "- Columns should not be dropped as key data will be lost (e.g. those without selftexts have key information in the title)"
   ]
  },
  {
   "cell_type": "code",
   "execution_count": 28,
   "id": "1fa401f0-30f1-427d-94bb-64fdc73aaa0a",
   "metadata": {},
   "outputs": [],
   "source": [
    "df_depression_praw['author'].fillna(value=' ', inplace=True)"
   ]
  },
  {
   "cell_type": "code",
   "execution_count": 29,
   "id": "9852ea45-db2c-4764-915e-1388ded4f52c",
   "metadata": {},
   "outputs": [],
   "source": [
    "df_depression_praw['selftext'].fillna(value=' ', inplace=True)"
   ]
  },
  {
   "cell_type": "code",
   "execution_count": 30,
   "id": "391d854d-120d-47d4-8065-0c8675c02da6",
   "metadata": {},
   "outputs": [],
   "source": [
    "df_depression_praw['post_length'].fillna(value=0, inplace=True)"
   ]
  },
  {
   "cell_type": "code",
   "execution_count": 31,
   "id": "a4f431e5-3ce6-43fe-860b-823598443fe3",
   "metadata": {},
   "outputs": [],
   "source": [
    "df_anxiety_praw['author'].fillna(value=' ', inplace=True)"
   ]
  },
  {
   "cell_type": "code",
   "execution_count": 32,
   "id": "1bf7c07f-9cf9-489e-83ad-d691770ccc26",
   "metadata": {},
   "outputs": [],
   "source": [
    "df_anxiety_praw['selftext'].fillna(value=' ', inplace=True)"
   ]
  },
  {
   "cell_type": "code",
   "execution_count": 33,
   "id": "420854b2-9d27-4132-94cc-913de995ba12",
   "metadata": {},
   "outputs": [],
   "source": [
    "df_anxiety_praw['post_length'].fillna(value=0, inplace=True)"
   ]
  },
  {
   "cell_type": "code",
   "execution_count": 34,
   "id": "469f0259-8773-45c8-b83f-be2c506d0950",
   "metadata": {},
   "outputs": [
    {
     "data": {
      "text/plain": [
       "id               0\n",
       "created_utc      0\n",
       "title            0\n",
       "is_self          0\n",
       "selftext         0\n",
       "score            0\n",
       "upvote_ratio     0\n",
       "num_comments     0\n",
       "permalink        0\n",
       "author           0\n",
       "distinguished    0\n",
       "post_length      0\n",
       "dtype: int64"
      ]
     },
     "execution_count": 34,
     "metadata": {},
     "output_type": "execute_result"
    }
   ],
   "source": [
    "df_depression_praw.isnull().sum()"
   ]
  },
  {
   "cell_type": "code",
   "execution_count": 35,
   "id": "c168654c-c0b3-4a46-86ed-026b0c708060",
   "metadata": {},
   "outputs": [
    {
     "data": {
      "text/plain": [
       "id               0\n",
       "created_utc      0\n",
       "title            0\n",
       "is_self          0\n",
       "selftext         0\n",
       "score            0\n",
       "upvote_ratio     0\n",
       "num_comments     0\n",
       "permalink        0\n",
       "author           0\n",
       "distinguished    0\n",
       "post_length      0\n",
       "dtype: int64"
      ]
     },
     "execution_count": 35,
     "metadata": {},
     "output_type": "execute_result"
    }
   ],
   "source": [
    "df_anxiety_praw.isnull().sum()"
   ]
  },
  {
   "cell_type": "markdown",
   "id": "4273b7e7-f6e6-4238-a54f-247127177a7f",
   "metadata": {},
   "source": [
    "## Drop moderator posts"
   ]
  },
  {
   "cell_type": "markdown",
   "id": "d4d6f549-9bc6-4836-98a7-ce48cc1a3a51",
   "metadata": {},
   "source": [
    "As I would like to focus on posts from users, moderator posts will be dropped."
   ]
  },
  {
   "cell_type": "code",
   "execution_count": null,
   "id": "2449dda3-2e17-4a8a-ad5c-ce892e0b41f2",
   "metadata": {},
   "outputs": [],
   "source": [
    "df_depression_praw = df_depression_praw.drop(df_depression_praw[df_depression_praw['distinguished'] == 'moderator'].index)"
   ]
  },
  {
   "cell_type": "code",
   "execution_count": null,
   "id": "751b1781-32c0-4ace-b54f-b74c8f511f1e",
   "metadata": {},
   "outputs": [],
   "source": [
    "df_anxiety_praw = df_anxiety_praw.drop(df_anxiety_praw[df_anxiety_praw['distinguished'] == 'moderator'].index)"
   ]
  },
  {
   "cell_type": "markdown",
   "id": "1d45cf89-b66e-484f-bccc-2914b0cece6a",
   "metadata": {},
   "source": [
    "## Lemantize and further text cleaning"
   ]
  },
  {
   "cell_type": "markdown",
   "id": "f672621d-cfd4-449b-91b9-a87534068d0d",
   "metadata": {},
   "source": [
    "Create two functions:\n",
    "- clean_text\n",
    "    - removes underscores\n",
    "    - lowercase the text\n",
    "    - remove numbers\n",
    "    - remove apostrophes\n",
    "    - remove punctuations\n",
    "    - remove links\n",
    "    - remove whitespaces\n",
    "    - remove emojis\n",
    "- lemmatize\n",
    "    - consider the context and converts the word to its meaningful base form, which is called Lemma."
   ]
  },
  {
   "cell_type": "markdown",
   "id": "fbb73fff-73f7-498b-92a0-7483ef9763fe",
   "metadata": {},
   "source": [
    "Lemmatization and cleaning of text are essential preprocessing steps in natural language processing (NLP) because they help to standardize and simplify the text data, which makes it easier to analyze and understand.\n",
    "\n",
    "Cleaning of text helps to reduce the noise in the data and eliminates irrelevant information that can interfere with the analysis. Cleaning of text also helps to normalize the text by making all the words lowercase, which is important because many NLP algorithms are case-sensitive.\n",
    "\n",
    "Lemmatization involves reducing words to their base or root form, which can be useful for NLP tasks because it allows for the identification of common word stems."
   ]
  },
  {
   "cell_type": "code",
   "execution_count": null,
   "id": "ff8976d3-3ba1-4879-bbff-dea49cfa425f",
   "metadata": {},
   "outputs": [],
   "source": [
    "def clean_text(text):\n",
    "    # replace underscores and replace with spaces\n",
    "    text = text.replace('_', ' ')\n",
    "\n",
    "    # lowercase the texts\n",
    "    text = text.lower()\n",
    "    \n",
    "    # remove numbers using regex that match one or more digits\n",
    "    text = re.sub(r'\\d+', '', text)\n",
    "    \n",
    "    # remove hypens and split the hyphenated words into individual words\n",
    "    text = re.sub(r\"-\", \" \", text)\n",
    "    \n",
    "    # remove apostrophes and split into individual words\n",
    "    text = re.sub(r\"'\", \"\", text)\n",
    "    text = re.sub(r\"n't\", \" not\", text)\n",
    "    text = re.sub(r\"'re\", \" are\", text)\n",
    "    text = re.sub(r\"'s\", \" is\", text)\n",
    "    text = re.sub(r\"'m\", \" am\", text)\n",
    "    text = re.sub(r\"'ll\", \" will\", text)\n",
    "    text = re.sub(r\"'d\", \" would\", text)\n",
    "    \n",
    "    # remove punctuations using regex that match one or more punctuation characters\n",
    "    text = re.sub(r'[^\\w\\s]+', '', text)\n",
    "    \n",
    "    # remove links\n",
    "    words = text.split(' ')\n",
    "    words_to_sub = [w for w in words if 'http' in w]\n",
    "\n",
    "    if words_to_sub:\n",
    "        for w in words_to_sub:\n",
    "            new_word = re.sub('http.*', '', w)\n",
    "            text = re.sub(w, new_word, text)\n",
    "    \n",
    "    # remove emojis\n",
    "    text = demoji.replace(text, '')\n",
    "    \n",
    "    # remove whitespaces using regex that match one or more whitespace characters\n",
    "    text = re.sub(r'\\s+', ' ', text).strip()\n",
    "    \n",
    "    return text"
   ]
  },
  {
   "cell_type": "code",
   "execution_count": null,
   "id": "2b395d21-c97d-4cd5-9bc0-b2c703a9ebb4",
   "metadata": {},
   "outputs": [],
   "source": [
    "def lemmatize(text):\n",
    "    # instantiate the lemmatizer object\n",
    "    lemmatizer = WordNetLemmatizer()\n",
    "    tokens = nltk.word_tokenize(text)\n",
    "    \n",
    "    # remove stopwords from tokens\n",
    "    stop_words = set(stopwords.words('english'))\n",
    "    filtered_tokens = [token for token in tokens if token.lower() not in stop_words]\n",
    "    \n",
    "    # lemmatize the tokens in the list of filtered tokens\n",
    "    lemmatized_tokens = [lemmatizer.lemmatize(token) for token in filtered_tokens]\n",
    "    \n",
    "    # join back into a string to return lemmatized text\n",
    "    lemmatized_text = \" \".join(lemmatized_tokens)\n",
    "    \n",
    "    return lemmatized_text"
   ]
  },
  {
   "cell_type": "markdown",
   "id": "8e1ccc0b-0729-445d-9faf-5e8b3e7e861e",
   "metadata": {},
   "source": [
    "The two functions are then tested on the existing texts. But first, let's combine both title and text to be cleaned together in a single column."
   ]
  },
  {
   "cell_type": "code",
   "execution_count": null,
   "id": "00ad3ad8-03c1-43e2-a294-bc17544a99f2",
   "metadata": {},
   "outputs": [],
   "source": [
    "# combine title and selftext so that they can be cleaned and lemmatized together.\n",
    "df_depression_praw['title_selftext_comb'] = df_depression_praw['title'] + ' ' + df_depression_praw['selftext']\n",
    "df_anxiety_praw['title_selftext_comb'] = df_anxiety_praw['title'] + ' ' + df_anxiety_praw['selftext']"
   ]
  },
  {
   "cell_type": "markdown",
   "id": "5ee2284c-9f23-4dd0-a0a7-a37e0d1b273a",
   "metadata": {},
   "source": [
    "### Clean text"
   ]
  },
  {
   "cell_type": "code",
   "execution_count": null,
   "id": "4af09ec4-af6c-40f1-8201-0fa9278ee554",
   "metadata": {},
   "outputs": [],
   "source": [
    "# before cleaning - r/depression\n",
    "df_depression_praw['title_selftext_comb'].head()"
   ]
  },
  {
   "cell_type": "code",
   "execution_count": null,
   "id": "014c464d-6fe0-4ef0-9820-fd7c4e96aedc",
   "metadata": {},
   "outputs": [],
   "source": [
    "# post cleaning - r/depression\n",
    "df_depression_praw['title_selftext_comb_clean'] = df_depression_praw['title_selftext_comb'].apply(clean_text)\n",
    "df_depression_praw['title_selftext_comb_clean'].head()"
   ]
  },
  {
   "cell_type": "code",
   "execution_count": null,
   "id": "8c554224-b879-4c83-9f43-c2e649f75525",
   "metadata": {},
   "outputs": [],
   "source": [
    "# before cleaning - r/anxiety\n",
    "df_anxiety_praw['title_selftext_comb'].head()"
   ]
  },
  {
   "cell_type": "code",
   "execution_count": null,
   "id": "bb9755d9-aaee-48e9-83e0-e12f62599246",
   "metadata": {},
   "outputs": [],
   "source": [
    "# post cleaning - r/anxiety\n",
    "df_anxiety_praw['title_selftext_comb_clean'] = df_anxiety_praw['title_selftext_comb'].apply(clean_text)\n",
    "df_anxiety_praw['title_selftext_comb_clean'].head()"
   ]
  },
  {
   "cell_type": "markdown",
   "id": "f5ffdd93-88ba-41f6-9900-40dcc3fa07ac",
   "metadata": {},
   "source": [
    "### Lemmatize text"
   ]
  },
  {
   "cell_type": "code",
   "execution_count": null,
   "id": "9ac81c5c-d5ef-4486-9da9-38c963bcc849",
   "metadata": {},
   "outputs": [],
   "source": [
    "# before lemmatize - r/depression\n",
    "df_depression_praw['title_selftext_comb_clean'].head()"
   ]
  },
  {
   "cell_type": "code",
   "execution_count": null,
   "id": "8a4e66ce-0222-4ffa-8f7b-bca81b1c8eb2",
   "metadata": {},
   "outputs": [],
   "source": [
    "# post lemmatize - r/depression\n",
    "df_depression_praw['title_selftext_comb_clean_lem'] = df_depression_praw['title_selftext_comb_clean'].apply(lemmatize)\n",
    "df_depression_praw['title_selftext_comb_clean_lem'].head()"
   ]
  },
  {
   "cell_type": "code",
   "execution_count": null,
   "id": "cb0e569c-ff76-4eeb-93d4-72118bbb7050",
   "metadata": {},
   "outputs": [],
   "source": [
    "# before lemmatize - r/depression\n",
    "df_anxiety_praw['title_selftext_comb_clean'].head()"
   ]
  },
  {
   "cell_type": "code",
   "execution_count": null,
   "id": "51e959d1-83fc-48e6-968d-5859e78334dc",
   "metadata": {},
   "outputs": [],
   "source": [
    "# post lemmatize - r/anxiety\n",
    "df_anxiety_praw['title_selftext_comb_clean_lem'] = df_anxiety_praw['title_selftext_comb_clean'].apply(lemmatize)\n",
    "df_anxiety_praw['title_selftext_comb_clean_lem'].head()"
   ]
  },
  {
   "cell_type": "markdown",
   "id": "262f9d63-8325-4b63-b8db-184107a68c1c",
   "metadata": {},
   "source": [
    "### Original text vs. Clean text vs Clean and Lemmatize text"
   ]
  },
  {
   "cell_type": "markdown",
   "id": "ebc090fe-0490-4e4a-978e-130a29489e48",
   "metadata": {},
   "source": [
    "### r/depression output"
   ]
  },
  {
   "cell_type": "code",
   "execution_count": null,
   "id": "ccf7bd2e-36f3-473b-8b39-4332c75a262d",
   "metadata": {
    "scrolled": true,
    "tags": []
   },
   "outputs": [],
   "source": [
    "print('Original text:','\\n')\n",
    "print(df_depression_praw['title_selftext_comb'][0], '\\n')\n",
    "print('Clean text:','\\n')\n",
    "print(df_depression_praw['title_selftext_comb_clean'][0], '\\n')\n",
    "print('Clean and Lemmatize text:','\\n')\n",
    "print(df_depression_praw['title_selftext_comb_clean_lem'][0], '\\n')"
   ]
  },
  {
   "cell_type": "markdown",
   "id": "11a774da-a285-438a-8a96-21da398c5680",
   "metadata": {},
   "source": [
    "### r/anxiety output"
   ]
  },
  {
   "cell_type": "code",
   "execution_count": null,
   "id": "4245e487-baf5-4ddf-bb67-8d09ec185d98",
   "metadata": {
    "scrolled": true,
    "tags": []
   },
   "outputs": [],
   "source": [
    "print('Original text:','\\n')\n",
    "print(df_anxiety_praw['title_selftext_comb'][0], '\\n')\n",
    "print('Clean text:','\\n')\n",
    "print(df_anxiety_praw['title_selftext_comb_clean'][0], '\\n')\n",
    "print('Clean and Lemmatize text:','\\n')\n",
    "print(df_anxiety_praw['title_selftext_comb_clean_lem'][0], '\\n')"
   ]
  },
  {
   "cell_type": "markdown",
   "id": "d9d63394-79e8-4b78-838f-c339157b9cbe",
   "metadata": {},
   "source": [
    "### Create a new column for each dataframe for bigram analysis of selftext later"
   ]
  },
  {
   "cell_type": "code",
   "execution_count": null,
   "id": "2ffc1fa4-f9ce-4423-bb33-80ef2812bc3d",
   "metadata": {},
   "outputs": [],
   "source": [
    "df_depression_praw['selftext_clean'] = df_depression_praw['selftext'].apply(clean_text)"
   ]
  },
  {
   "cell_type": "code",
   "execution_count": null,
   "id": "a5c962e3-8aa4-4373-a321-03fdb47f1318",
   "metadata": {},
   "outputs": [],
   "source": [
    "df_anxiety_praw['selftext_clean'] = df_anxiety_praw['selftext'].apply(clean_text)"
   ]
  },
  {
   "cell_type": "code",
   "execution_count": null,
   "id": "5bd87921-c42d-4edf-a42b-b9be04911fff",
   "metadata": {},
   "outputs": [],
   "source": [
    "# final shape for df_depression_praw\n",
    "df_depression_praw.shape"
   ]
  },
  {
   "cell_type": "code",
   "execution_count": null,
   "id": "68199a96-57e8-4845-9839-f786ba87def0",
   "metadata": {},
   "outputs": [],
   "source": [
    "# final shape for df_anxiety_praw\n",
    "df_anxiety_praw.shape"
   ]
  },
  {
   "cell_type": "markdown",
   "id": "eb53cf11-e0de-43c3-ae75-1432f926cb9a",
   "metadata": {},
   "source": [
    "___"
   ]
  },
  {
   "cell_type": "markdown",
   "id": "9fb37831-d635-43d9-85aa-11184bf3f022",
   "metadata": {},
   "source": [
    "# Exploratory Data Analysis"
   ]
  },
  {
   "cell_type": "markdown",
   "id": "8bd56af0-ed36-478d-97d9-428ec81d6e55",
   "metadata": {},
   "source": [
    "## Data Dictionary"
   ]
  },
  {
   "cell_type": "code",
   "execution_count": null,
   "id": "a41218e0-7e50-4f9b-ae89-ad9f7f7d109e",
   "metadata": {},
   "outputs": [],
   "source": [
    "df_depression_praw.head(1)"
   ]
  },
  {
   "cell_type": "markdown",
   "id": "c5911faa-28e9-44b6-9cfa-87a29f74ac41",
   "metadata": {},
   "source": [
    "|Feature|Type|Dataset|Description|\n",
    "|---|---|---|---|\n",
    "|id|string|anxiety_praw.csv & depression_praw.csv|Unique identifier of a particular post or comment within a subreddit|\n",
    "|created_utc|datetime64[ns]|anxiety_praw.csv & depression_praw.csv|The time the post or comment was created|\n",
    "|title|String|anxiety_praw.csv & depression_praw.csv|The title of the post.|\n",
    "|is_self|Boolean|anxiety_praw.csv & depression_praw.csv|Indicates whether the post is a self-post or not.|\n",
    "|self_text|String|anxiety_praw.csv & depression_praw.csv|The actual text content of a self-post.n|\n",
    "|score|Integer|anxiety_praw.csv & depression_praw.csv|The upvotes minus the downvotes of the post.|\n",
    "|upvote_ratio|Float|anxiety_praw.csv & depression_praw.csv|The ratio of upvotes to total votes.|\n",
    "|num_comments|Integer|anxiety_praw.csv & depression_praw.csv|The total number of comments on the post.|\n",
    "|permalink|String|anxiety_praw.csv & depression_praw.csv|The permanent link to the post.|\n",
    "|author|String|anxiety_praw.csv & depression_praw.csv|The username of the person who submitted the post.|\n",
    "|distinguished|String|anxiety_praw.csv & depression_praw.csv|Indicates whether the post or comment has been distinguished by a moderator or admin.|\n",
    "|post_length|Integer|anxiety_praw.csv & depression_praw.csv|Length of post|\n",
    "|title_selftext_comb|String|anxiety_praw.csv & depression_praw.csv|Title and selftext combined|\n",
    "|title_selftext_comb_clean|String|anxiety_praw.csv & depression_praw.csv|Title and selftext combined cleaned|\n",
    "|title_selftext_comb_clean_lem|String|anxiety_praw.csv & depression_praw.csv|Title and selftext combined cleaned and lemmatized|\n",
    "|selftext_clean|String|anxiety_praw.csv & depression_praw.csv|Selftext cleaned|"
   ]
  },
  {
   "cell_type": "markdown",
   "id": "ff0c2243-531e-4e98-86dc-8268a277c625",
   "metadata": {
    "tags": []
   },
   "source": [
    "## Average post length for subreddits"
   ]
  },
  {
   "cell_type": "code",
   "execution_count": null,
   "id": "97772fbf-8439-44c4-ba49-80f7fa20f961",
   "metadata": {},
   "outputs": [],
   "source": [
    "# mean post length\n",
    "depression_mean = df_depression_praw['post_length'].mean()\n",
    "anxiety_mean = df_anxiety_praw['post_length'].mean()"
   ]
  },
  {
   "cell_type": "code",
   "execution_count": null,
   "id": "2397bb05-d49b-4b36-bb24-a6b7fa33fdbe",
   "metadata": {},
   "outputs": [],
   "source": [
    "fig, (ax1, ax2) = plt.subplots(1, 2, figsize=(20,10))\n",
    "ax1.hist(df_depression_praw['post_length'], bins=50, alpha=0.5)\n",
    "ax1.axvline(x=depression_mean, color='r', linestyle='--', label='Mean post length: {:.2f}'.format(depression_mean))\n",
    "ax1.set_xlabel('Post Length')\n",
    "ax1.set_ylabel('Frequency')\n",
    "ax1.set_title('r/depression')\n",
    "ax1.legend()\n",
    "\n",
    "ax2.hist(df_anxiety_praw['post_length'], bins=50, alpha=0.5)\n",
    "ax2.axvline(x=anxiety_mean, color='r', linestyle='--', label='Mean post length: {:.2f}'.format(anxiety_mean))\n",
    "ax2.set_xlabel('Post Length')\n",
    "ax2.set_ylabel('Frequency')\n",
    "ax2.set_title('r/anxiety')\n",
    "ax2.legend()\n",
    "\n",
    "plt.show()"
   ]
  },
  {
   "cell_type": "markdown",
   "id": "7b337945-c27a-41ac-9109-6ea5251cb812",
   "metadata": {},
   "source": [
    "***Key Findings***:\n",
    "- Posts on `r/depression` tend to be longer than posts on `r/anxiety`."
   ]
  },
  {
   "cell_type": "markdown",
   "id": "0364614f-e23b-4de1-91b4-478b25d1ca8b",
   "metadata": {},
   "source": [
    "## Outliers"
   ]
  },
  {
   "cell_type": "code",
   "execution_count": null,
   "id": "860625a0-a59b-4bbd-9f1b-0921dbad0c2f",
   "metadata": {},
   "outputs": [],
   "source": [
    "# figure for subplots\n",
    "fig, (ax1, ax2) = plt.subplots(1, 2, figsize=(10, 5))\n",
    "\n",
    "# boxplot for r/depression\n",
    "depression_data = [df_depression_praw['score'], df_depression_praw['upvote_ratio'], df_depression_praw['num_comments']]\n",
    "depression_labels = ['Score', 'Upvote Ratio', 'Num Comments']\n",
    "ax1.boxplot(depression_data, labels=depression_labels)\n",
    "ax1.set_title('r/depression')\n",
    "\n",
    "# boxplot for r/anxiety\n",
    "anxiety_data = [df_anxiety_praw['score'], df_anxiety_praw['upvote_ratio'], df_anxiety_praw['num_comments']]\n",
    "anxiety_labels = ['Score', 'Upvote Ratio', 'Num Comments']\n",
    "ax2.boxplot(anxiety_data, labels=anxiety_labels)\n",
    "ax2.set_title('r/anxiety')\n",
    "\n",
    "# spacing\n",
    "fig.subplots_adjust(wspace=0.4)\n",
    "\n",
    "# xtick label positon\n",
    "for ax in [ax1, ax2]:\n",
    "    plt.setp(ax.get_xticklabels(), rotation=45, ha='right')\n",
    "\n",
    "# label size\n",
    "for ax in [ax1, ax2]:\n",
    "    ax.tick_params(axis='both', which='major', labelsize=10)\n",
    "\n",
    "# figure size\n",
    "fig.set_size_inches(20, 6)\n",
    "\n",
    "# plot\n",
    "plt.show()"
   ]
  },
  {
   "cell_type": "markdown",
   "id": "73d73bfe-6b8f-410d-bdca-1729ca6cdaef",
   "metadata": {},
   "source": [
    "## Num Comments Outliers"
   ]
  },
  {
   "cell_type": "code",
   "execution_count": null,
   "id": "db279ab1-b797-41ac-ba31-889e945e033b",
   "metadata": {},
   "outputs": [],
   "source": [
    "# zoom in on outlier for depression num comments\n",
    "df_depression_num_comments_high = df_depression_praw[df_depression_praw['num_comments'] > 7000]"
   ]
  },
  {
   "cell_type": "code",
   "execution_count": null,
   "id": "31246f67-06e0-47ed-b7a7-248f4f3ca7c6",
   "metadata": {
    "scrolled": true,
    "tags": []
   },
   "outputs": [],
   "source": [
    "# display the posts\n",
    "for _, row in df_depression_num_comments_high.iterrows():\n",
    "    print(f\"Title: {row['title']}\\n\")\n",
    "    print(f\"Content: {row['selftext']}\\n\")\n",
    "    print(\"------------------------------\\n\")"
   ]
  },
  {
   "cell_type": "code",
   "execution_count": null,
   "id": "5cfd09a4-efd3-44a4-a66b-f63ed671f3e1",
   "metadata": {},
   "outputs": [],
   "source": [
    "# zoom in on outlier for anxiety num comments\n",
    "df_anxiety_num_comments_high = df_anxiety_praw[df_anxiety_praw['num_comments'] > 17500]"
   ]
  },
  {
   "cell_type": "code",
   "execution_count": null,
   "id": "a2fd4034-2e24-47c3-b6fa-5ea535143150",
   "metadata": {
    "scrolled": true,
    "tags": []
   },
   "outputs": [],
   "source": [
    "# display the posts\n",
    "for _, row in df_anxiety_num_comments_high.iterrows():\n",
    "    print(f\"Title: {row['title']}\\n\")\n",
    "    print(f\"Content: {row['selftext']}\\n\")\n",
    "    print(\"------------------------------\\n\")"
   ]
  },
  {
   "cell_type": "markdown",
   "id": "dd78b41f-1410-4470-8a17-20bedf48f702",
   "metadata": {},
   "source": [
    "## Score Outliers"
   ]
  },
  {
   "cell_type": "code",
   "execution_count": null,
   "id": "5278657c-bbc9-4599-9a7d-050e585fd66a",
   "metadata": {},
   "outputs": [],
   "source": [
    "# zoom in on post for outlier score for r/depression\n",
    "df_depression_score_high = df_depression_praw[df_depression_praw['score'] > 4000]"
   ]
  },
  {
   "cell_type": "code",
   "execution_count": null,
   "id": "b2763392-d927-455f-a969-b1cd54e33201",
   "metadata": {
    "scrolled": true,
    "tags": []
   },
   "outputs": [],
   "source": [
    "# display posts\n",
    "for _, row in df_depression_score_high.iterrows():\n",
    "    print(f\"Title: {row['title']}\\n\")\n",
    "    print(f\"Content: {row['selftext']}\\n\")\n",
    "    print(\"------------------------------\\n\")"
   ]
  },
  {
   "cell_type": "code",
   "execution_count": null,
   "id": "b140bc92-fb70-4eaa-9010-a3b762cde349",
   "metadata": {},
   "outputs": [],
   "source": [
    "# zoom in on post for outlier score for r/anxiety\n",
    "df_anxiety_score_high = df_anxiety_praw[df_anxiety_praw['score'] > 7500]"
   ]
  },
  {
   "cell_type": "code",
   "execution_count": null,
   "id": "c035feef-fcd3-47dc-ba0b-9dd507a2c4a8",
   "metadata": {
    "scrolled": true,
    "tags": []
   },
   "outputs": [],
   "source": [
    "# display posts\n",
    "for _, row in df_anxiety_score_high.iterrows():\n",
    "    print(f\"Title: {row['title']}\\n\")\n",
    "    print(f\"Content: {row['selftext']}\\n\")\n",
    "    print(\"------------------------------\\n\")"
   ]
  },
  {
   "cell_type": "markdown",
   "id": "73376485-01fc-4b21-9486-cca97a2ee903",
   "metadata": {},
   "source": [
    "***Key Findings***:\n",
    "- Posts with highest scores are \"negative\" for r/depression and \"positive\" for r/anxiety."
   ]
  },
  {
   "cell_type": "markdown",
   "id": "0073f461-8072-49e4-94a9-4151b951acc7",
   "metadata": {},
   "source": [
    "## Distribution of Number of Comments"
   ]
  },
  {
   "cell_type": "code",
   "execution_count": null,
   "id": "2263b1ac-9c44-44e5-93cd-ea858cf40e04",
   "metadata": {},
   "outputs": [],
   "source": [
    "# extract number of comments\n",
    "comments_depression = df_depression_praw['num_comments']\n",
    "comments_anxiety = df_anxiety_praw['num_comments']\n",
    "\n",
    "# calculate mean value\n",
    "mean_comments_subreddit1 = comments_depression.mean()\n",
    "mean_comments_subreddit2 = comments_anxiety.mean()\n",
    "\n",
    "# subplot\n",
    "fig, axs = plt.subplots(1, 2, figsize=(12, 6), sharey=True)\n",
    "fig.suptitle('Comparison of Number of Comments in Two Subreddits')\n",
    "\n",
    "axs[0].hist(comments_depression, bins=20, color='blue')\n",
    "axs[0].axvline(mean_comments_subreddit1, color='black', linestyle='dashed', linewidth=1)\n",
    "axs[0].text(0.95, 0.95, f\"Mean: {mean_comments_subreddit1:.2f}\", ha='right', va='top', transform=axs[0].transAxes, color='black')\n",
    "axs[0].set_title('r/depression')\n",
    "axs[0].set_xlabel('Number of Comments')\n",
    "axs[0].set_ylabel('Number of Posts')\n",
    "\n",
    "axs[1].hist(comments_anxiety, bins=20, color='red')\n",
    "axs[1].axvline(mean_comments_subreddit2, color='black', linestyle='dashed', linewidth=1)\n",
    "axs[1].text(0.95, 0.95, f\"Mean: {mean_comments_subreddit2:.2f}\", ha='right', va='top', transform=axs[1].transAxes, color='black')\n",
    "axs[1].set_title('r/anxiety')\n",
    "axs[1].set_xlabel('Number of Comments')\n",
    "\n",
    "plt.show()"
   ]
  },
  {
   "cell_type": "markdown",
   "id": "50bd961f-3324-448c-b673-5aa235c8c501",
   "metadata": {},
   "source": [
    "***Key Findings***:\n",
    "- On average, posts in r/depression tend to receive more comments than posts in r/anxiety."
   ]
  },
  {
   "cell_type": "code",
   "execution_count": null,
   "id": "1086bbca-1055-49b6-8d99-f50ff977adbf",
   "metadata": {},
   "outputs": [],
   "source": [
    "# extract score\n",
    "score_depression = df_depression_praw['score']\n",
    "score_anxiety = df_anxiety_praw['score']\n",
    "\n",
    "# calculate mean value\n",
    "mean_score_subreddit1 = score_depression.mean()\n",
    "mean_score_subreddit2 = score_anxiety.mean()\n",
    "\n",
    "# subplot\n",
    "fig, axs = plt.subplots(1, 2, figsize=(12, 6), sharey=True)\n",
    "fig.suptitle('Comparison of Scores in Two Subreddits')\n",
    "\n",
    "axs[0].hist(score_depression, bins=20, color='blue')\n",
    "axs[0].axvline(mean_score_subreddit1, color='black', linestyle='dashed', linewidth=1)\n",
    "axs[0].text(0.95, 0.95, f\"Mean: {mean_score_subreddit1:.2f}\", ha='right', va='top', transform=axs[0].transAxes, color='black')\n",
    "axs[0].set_title('r/depression')\n",
    "axs[0].set_xlabel('Score')\n",
    "axs[0].set_ylabel('Number of Posts')\n",
    "\n",
    "axs[1].hist(score_anxiety, bins=20, color='red')\n",
    "axs[1].axvline(mean_score_subreddit2, color='black', linestyle='dashed', linewidth=1)\n",
    "axs[1].text(0.95, 0.95, f\"Mean: {mean_score_subreddit2:.2f}\", ha='right', va='top', transform=axs[1].transAxes, color='black')\n",
    "axs[1].set_title('r/anxiety')\n",
    "axs[1].set_xlabel('Score')\n",
    "\n",
    "plt.show()"
   ]
  },
  {
   "cell_type": "markdown",
   "id": "b0970864-57a2-421f-bf6c-0b55796a9410",
   "metadata": {},
   "source": [
    "***Key Findings***:\n",
    "- On average, posts in r/depression tend to receive higher scores than posts in r/anxiety."
   ]
  },
  {
   "cell_type": "code",
   "execution_count": null,
   "id": "8c4aa7c5-319d-42d3-9a3d-e7f3f088662a",
   "metadata": {},
   "outputs": [],
   "source": [
    "# extract upvote ratio\n",
    "uvratio_depression = df_depression_praw['upvote_ratio']\n",
    "uvratio_anxiety = df_anxiety_praw['upvote_ratio']\n",
    "\n",
    "# calculate mean\n",
    "mean_uvratio_subreddit1 = uvratio_depression.mean()\n",
    "mean_uvratio_subreddit2 = uvratio_anxiety.mean()\n",
    "\n",
    "# subplot\n",
    "fig, axs = plt.subplots(1, 2, figsize=(12, 6), sharey=True)\n",
    "fig.suptitle('Comparison of Upvote Ratio in Two Subreddits')\n",
    "\n",
    "# plot histogram for r/depression\n",
    "axs[0].hist(uvratio_depression, bins=20, color='blue')\n",
    "axs[0].axvline(mean_uvratio_subreddit1, color='black', linestyle='dashed', linewidth=1)\n",
    "axs[0].text(0.8, 0.85, f\"Mean: {mean_uvratio_subreddit1:.2f}\", ha='right', va='top', transform=axs[0].transAxes, color='black')\n",
    "axs[0].set_title('r/depression')\n",
    "axs[0].set_xlabel('Upvote Ratio')\n",
    "axs[0].set_ylabel('Number of Posts')\n",
    "\n",
    "# plot histogram for r/anxiety\n",
    "axs[1].hist(uvratio_anxiety, bins=20, color='red')\n",
    "axs[1].axvline(mean_uvratio_subreddit2, color='black', linestyle='dashed', linewidth=1)\n",
    "axs[1].text(0.8, 0.85, f\"Mean: {mean_uvratio_subreddit2:.2f}\", ha='right', va='top', transform=axs[1].transAxes, color='black')\n",
    "axs[1].set_title('r/anxiety')\n",
    "axs[1].set_xlabel('Upvote Ratio')\n",
    "\n",
    "plt.show()"
   ]
  },
  {
   "cell_type": "markdown",
   "id": "77c96280-75fc-4b36-a8d2-dd36c9547820",
   "metadata": {},
   "source": [
    "***Key Findings***:\n",
    "- A mean upvote ratio of 0.99 indicates that almost all posts in both subreddits tend to be well-received by the community, as the vast majority of users are upvoting them. "
   ]
  },
  {
   "cell_type": "markdown",
   "id": "8a7b989c-417b-4e66-bdf1-64cb5a566ef8",
   "metadata": {},
   "source": [
    "## N-gram Analysis"
   ]
  },
  {
   "cell_type": "markdown",
   "id": "39e5b460-97d3-4cf4-9cc2-c5f1095bda89",
   "metadata": {},
   "source": [
    "### Word Cloud"
   ]
  },
  {
   "cell_type": "code",
   "execution_count": null,
   "id": "658b3abe-26ab-4419-a0c1-f7fcfd55c598",
   "metadata": {},
   "outputs": [],
   "source": [
    "# combine the text data from the column of the dataframe\n",
    "text = ' '.join(df_depression_praw['title_selftext_comb_clean_lem'])\n",
    "\n",
    "# create a wordcloud object\n",
    "wordcloud = WordCloud(width=800, height=800, background_color='white', colormap='coolwarm', stopwords=None, max_words=200).generate(text)\n",
    "\n",
    "# plot the wordcloud\n",
    "plt.figure(figsize=(15,15))\n",
    "plt.imshow(wordcloud, interpolation='bilinear')\n",
    "plt.axis('off')\n",
    "plt.show()"
   ]
  },
  {
   "cell_type": "code",
   "execution_count": null,
   "id": "07b57e38-4deb-49bd-8505-4181d3123b4f",
   "metadata": {},
   "outputs": [],
   "source": [
    "# get the text data from the dataframe\n",
    "text = ' '.join(df_depression_praw['title_selftext_comb_clean_lem'])\n",
    "\n",
    "# split the text into individual words\n",
    "words = text.split()\n",
    "\n",
    "# count the frequency of each word and create a dictionary\n",
    "word_freq = dict(Counter(words))\n",
    "\n",
    "# sort the dictionary by frequency in descending order and get the top 10 words\n",
    "top_words = dict(sorted(word_freq.items(), key=lambda x: x[1], reverse=True)[:10])\n",
    "\n",
    "# create a barplot of the top words\n",
    "sns.set(style='whitegrid')\n",
    "plt.figure(figsize=(15, 15))\n",
    "plt.title('Top 10 Words by Frequency')\n",
    "sns.barplot(x=list(top_words.values()), y=list(top_words.keys()), palette='coolwarm')\n",
    "plt.xlabel('Frequency')\n",
    "plt.ylabel('Word')\n",
    "plt.show()"
   ]
  },
  {
   "cell_type": "code",
   "execution_count": null,
   "id": "713f840e-c1c2-4660-8919-60fcc98990dd",
   "metadata": {},
   "outputs": [],
   "source": [
    "# combine the text data from the column of the dataframe\n",
    "text = ' '.join(df_anxiety_praw['title_selftext_comb_clean_lem'])\n",
    "\n",
    "# create a wordcloud object\n",
    "wordcloud = WordCloud(width=800, height=800, background_color='white', colormap='coolwarm', stopwords=None, max_words=200).generate(text)\n",
    "\n",
    "# plot the wordcloud\n",
    "plt.figure(figsize=(15,15))\n",
    "plt.imshow(wordcloud, interpolation='bilinear')\n",
    "plt.axis('off')\n",
    "plt.show()"
   ]
  },
  {
   "cell_type": "code",
   "execution_count": null,
   "id": "6e39979f-353d-4370-b3c0-db3bdd7c967f",
   "metadata": {},
   "outputs": [],
   "source": [
    "# get the text data from the dataframe\n",
    "text = ' '.join(df_anxiety_praw['title_selftext_comb_clean_lem'])\n",
    "\n",
    "# split the text into individual words\n",
    "words = text.split()\n",
    "\n",
    "# count the frequency of each word and create a dictionary\n",
    "word_freq = dict(Counter(words))\n",
    "\n",
    "# sort the dictionary by frequency in descending order and get the top 10 words\n",
    "top_words = dict(sorted(word_freq.items(), key=lambda x: x[1], reverse=True)[:10])\n",
    "\n",
    "# create a barplot of the top words\n",
    "sns.set(style='whitegrid')\n",
    "plt.figure(figsize=(15, 15))\n",
    "plt.title('Top 10 Words by Frequency')\n",
    "sns.barplot(x=list(top_words.values()), y=list(top_words.keys()), palette='coolwarm')\n",
    "plt.xlabel('Frequency')\n",
    "plt.ylabel('Word')\n",
    "plt.show()"
   ]
  },
  {
   "cell_type": "markdown",
   "id": "0176d8c1-2921-4f28-a038-8052309c0c2b",
   "metadata": {},
   "source": [
    "***Key Findings***:\n",
    "- Both subreddits use common words like \"like\", \"im\", \"feel\", \"dont\", \"get\", \"people\", and \"time\", but also have some distinct words that appear more frequently in one subreddit than the other, such as \"life\" and \"want\" for r/depression, and \"anxiety\" and \"day\" for r/anxiety.\n",
    "- Both subreddits have some common themes, such as struggles with negative emotions, relationships and daily life challenges.\n",
    "- Differences are the specifc concerns and experiences that the users are dealing with.\n",
    "- e.g. r/depression focuses on issues related to finding the meaning and purpose in life while r/anxiety focuses on the experience of anxiety and how to manage it on a daily basis."
   ]
  },
  {
   "cell_type": "markdown",
   "id": "983dd39d-e05b-47f1-b259-dc092c044585",
   "metadata": {},
   "source": [
    "Examples from r/depression:\n",
    "\n",
    "\"Life feels meaningless and empty. I don't know what I want or where I'm going.\"\n",
    "\"I just want to feel better. I don't know what's wrong with me, but I can't shake this feeling of sadness and hopelessness.\"\n",
    "\"I don't like myself and I don't know how to change that. I feel like I'm stuck in this cycle of self-doubt and self-loathing.\"\n",
    "- In these examples, we see the frequent use of words like \"life\", \"want\", \"feel\", and \"like\", which suggest that members of r/depression are struggling with issues related to finding meaning and purpose in life, understanding their emotions, and dealing with negative self-talk and self-esteem issues.\n",
    "\n",
    "Examples from r/anxiety:\n",
    "\n",
    "\"I feel so anxious all the time. I can't stop worrying about everything, even little things that shouldn't matter.\"\n",
    "\"Does anyone else get panic attacks? I feel like I'm losing control and I don't know how to calm down.\"\n",
    "\"Anxiety is ruining my life. I can't focus on anything else, and I'm always on edge waiting for the next thing to trigger me.\"\n",
    "- In these examples, we see the frequent use of words like \"anxiety\", \"feel\", \"get\", and \"day\", which suggest that members of r/anxiety are struggling with issues related to managing and coping with their anxiety on a daily basis, including panic attacks, worry, and difficulty focusing on other things."
   ]
  },
  {
   "cell_type": "markdown",
   "id": "ae9d6ae7-e86a-4c25-86a4-0f746b2af91b",
   "metadata": {},
   "source": [
    "# Bi-gram Analysis"
   ]
  },
  {
   "cell_type": "markdown",
   "id": "c5c17c29-8318-4149-83b7-4297372a006a",
   "metadata": {},
   "source": [
    "## r/depression bi-gram analysis"
   ]
  },
  {
   "cell_type": "code",
   "execution_count": null,
   "id": "b60e8625-f178-4ccc-bf18-158d94c72940",
   "metadata": {},
   "outputs": [],
   "source": [
    "# extract column of cleaned selftext\n",
    "cleaned_text_column = df_depression_praw['selftext_clean']"
   ]
  },
  {
   "cell_type": "code",
   "execution_count": null,
   "id": "7f7918e0-b2d9-4c56-906b-6f8cd7292180",
   "metadata": {},
   "outputs": [],
   "source": [
    "# create list of bigrams\n",
    "bigrams_list = [bigram for row in cleaned_text_column for bigram in ngrams(row.split(), 2)]"
   ]
  },
  {
   "cell_type": "code",
   "execution_count": null,
   "id": "de37d50e-12c4-4b3f-be28-a4ea83ab4717",
   "metadata": {},
   "outputs": [],
   "source": [
    "# create dictionary for frequency\n",
    "bigram_freq = {}\n",
    "for bigram in bigrams_list:\n",
    "    if bigram in bigram_freq:\n",
    "        bigram_freq[bigram] += 1\n",
    "    else:\n",
    "        bigram_freq[bigram] = 1"
   ]
  },
  {
   "cell_type": "code",
   "execution_count": null,
   "id": "188ccefa-8514-4ffd-b563-346a979ce769",
   "metadata": {},
   "outputs": [],
   "source": [
    "# convert bigram list to string\n",
    "bigrams_text = ' '.join(['_'.join(bigram) for bigram in bigrams_list])"
   ]
  },
  {
   "cell_type": "code",
   "execution_count": null,
   "id": "b1f192f4-7b0f-4280-b110-de416820b548",
   "metadata": {},
   "outputs": [],
   "source": [
    "# generate wordcloud\n",
    "wordcloud = WordCloud(width=800, height=800, background_color='white', colormap='coolwarm', stopwords=None, max_words=200).generate(bigrams_text)"
   ]
  },
  {
   "cell_type": "code",
   "execution_count": null,
   "id": "e81478bd-a05a-4c5c-b5f8-a922b7920220",
   "metadata": {},
   "outputs": [],
   "source": [
    "# wordcloud plot\n",
    "plt.figure(figsize=(15,15))\n",
    "plt.imshow(wordcloud, interpolation='bilinear')\n",
    "plt.axis('off')\n",
    "\n",
    "plt.show()"
   ]
  },
  {
   "cell_type": "code",
   "execution_count": null,
   "id": "7bd87e27-779a-47b4-a319-99db24b2ace6",
   "metadata": {},
   "outputs": [],
   "source": [
    "# sort dictionary in descending order with focus on top 10 bigrams\n",
    "top_bigrams = dict(sorted(bigram_freq.items(), key=lambda x: x[1], reverse=True)[:10])\n",
    "\n",
    "# barplot of top bigrams\n",
    "sns.set(style='whitegrid')\n",
    "plt.figure(figsize=(15, 15))\n",
    "plt.title('Top 10 Bigrams by Frequency')\n",
    "sns.barplot(x=list(top_bigrams.values()), y=[f\"{bigram[0]} {bigram[1]}\" for bigram in top_bigrams.keys()], palette='coolwarm')\n",
    "plt.xlabel('Frequency')\n",
    "plt.ylabel('Bigram')\n",
    "\n",
    "plt.show()"
   ]
  },
  {
   "cell_type": "markdown",
   "id": "d75e1c73-e193-4003-98fc-c175fc43405a",
   "metadata": {},
   "source": [
    "## r/anxiety bi-gram analysis"
   ]
  },
  {
   "cell_type": "code",
   "execution_count": null,
   "id": "ee7742a9-6f09-435b-b5ef-bb992b72141a",
   "metadata": {},
   "outputs": [],
   "source": [
    "# extract column of cleaned selftext\n",
    "cleaned_text_column = df_anxiety_praw['selftext_clean']"
   ]
  },
  {
   "cell_type": "code",
   "execution_count": null,
   "id": "ca85d5c8-f202-4c0c-907d-81f7f56533e4",
   "metadata": {},
   "outputs": [],
   "source": [
    "# create list of bigrams\n",
    "bigrams_list = [bigram for row in cleaned_text_column for bigram in ngrams(row.split(), 2)]"
   ]
  },
  {
   "cell_type": "code",
   "execution_count": null,
   "id": "f405274e-4d79-4604-82ef-0a88761c314e",
   "metadata": {},
   "outputs": [],
   "source": [
    "# create dictionary for frequency\n",
    "bigram_freq = {}\n",
    "for bigram in bigrams_list:\n",
    "    if bigram in bigram_freq:\n",
    "        bigram_freq[bigram] += 1\n",
    "    else:\n",
    "        bigram_freq[bigram] = 1"
   ]
  },
  {
   "cell_type": "code",
   "execution_count": null,
   "id": "80db2a19-a5db-42ce-99bd-f0f3e34a19c1",
   "metadata": {},
   "outputs": [],
   "source": [
    "# convert bigram list to string\n",
    "bigrams_text = ' '.join(['_'.join(bigram) for bigram in bigrams_list])"
   ]
  },
  {
   "cell_type": "code",
   "execution_count": null,
   "id": "5951a1c3-a0fb-4d74-8d12-e31529007ddf",
   "metadata": {},
   "outputs": [],
   "source": [
    "# generate wordcloud\n",
    "wordcloud = WordCloud(width=800, height=800, background_color='white', colormap='coolwarm', stopwords=None, max_words=200).generate(bigrams_text)"
   ]
  },
  {
   "cell_type": "code",
   "execution_count": null,
   "id": "18e290ad-2384-414c-b8fc-7d1383d979f9",
   "metadata": {},
   "outputs": [],
   "source": [
    "# wordcloud plot\n",
    "plt.figure(figsize=(15,15))\n",
    "plt.imshow(wordcloud, interpolation='bilinear')\n",
    "plt.axis('off')\n",
    "\n",
    "plt.show()"
   ]
  },
  {
   "cell_type": "code",
   "execution_count": null,
   "id": "8429fc93-5d2d-44de-9254-ff72a0c59107",
   "metadata": {},
   "outputs": [],
   "source": [
    "# sort dictionary in descending order with focus on top 10 bigrams\n",
    "top_bigrams = dict(sorted(bigram_freq.items(), key=lambda x: x[1], reverse=True)[:10])\n",
    "\n",
    "# barplot of top bigrams\n",
    "sns.set(style='whitegrid')\n",
    "plt.figure(figsize=(15, 15))\n",
    "plt.title('Top 10 Bigrams by Frequency')\n",
    "sns.barplot(x=list(top_bigrams.values()), y=[f\"{bigram[0]} {bigram[1]}\" for bigram in top_bigrams.keys()], palette='coolwarm')\n",
    "plt.xlabel('Frequency')\n",
    "plt.ylabel('Bigram')\n",
    "\n",
    "plt.show()"
   ]
  },
  {
   "cell_type": "markdown",
   "id": "f1abea92-e56e-40c0-b02e-43024435e999",
   "metadata": {},
   "source": [
    "***Key Findings***: </br>\n",
    "- For r/depression, some of the most common bigrams include phrases such as \"I don't,\" \"I want to,\" \"I have,\" \"I was,\" \"I feel,\" \"I just,\" \"to be,\" and \"I can't.\" These phrases suggest a sense of hopelessness and helplessness, as well as a focus on negative emotions and experiences.\n",
    "\n",
    "- On the other hand, the top bigrams for r/anxiety include phrases such as \"and I,\" \"I was,\" \"I have,\" \"I don't,\" \"I feel,\" \"but I,\" \"I am,\" \"in the,\" \"of the,\" and \"I just.\" These phrases suggest a focus on specific situations or events that trigger anxiety, as well as a sense of uncertainty and hesitation.\n",
    "\n",
    "- Overall, the differences in the top bigrams for these two subreddits suggest some distinctions in the experiences and perspectives of users dealing with depression and anxiety. However, it's important to note that this analysis is based on language patterns and does not provide a comprehensive understanding of these conditions or the people who experience them."
   ]
  },
  {
   "cell_type": "markdown",
   "id": "e42d13f7-6b7c-41b8-9280-e2f2ad9e1453",
   "metadata": {},
   "source": [
    "## User Posting Pattern"
   ]
  },
  {
   "cell_type": "code",
   "execution_count": null,
   "id": "cadb11bf-ff6c-462d-92fa-5e40fd6e2c4c",
   "metadata": {},
   "outputs": [],
   "source": [
    "# replace empty strings with NaN values and drop rows with NaN values in the 'author' column\n",
    "df_depression_praw['author'] = df_depression_praw['author'].str.strip().replace('', np.nan)\n",
    "df = df_depression_praw.dropna(subset=['author'])"
   ]
  },
  {
   "cell_type": "code",
   "execution_count": null,
   "id": "9a8d73c7-a3f2-4332-a5cc-56131e8fdec9",
   "metadata": {},
   "outputs": [],
   "source": [
    "# count number of posts for each author and sort results in descending order\n",
    "top_posters = df['author'].value_counts().sort_values(ascending=False)"
   ]
  },
  {
   "cell_type": "code",
   "execution_count": null,
   "id": "f5c4f8a6-2b32-4090-bd08-c1208df09a5c",
   "metadata": {},
   "outputs": [],
   "source": [
    "# top 10 posters\n",
    "top_10_posters = top_posters.head(10)"
   ]
  },
  {
   "cell_type": "code",
   "execution_count": null,
   "id": "8f6e0c61-8a00-439d-9b24-43ffd69466a1",
   "metadata": {},
   "outputs": [],
   "source": [
    "# barchart\n",
    "plt.figure(figsize=(10, 6)) # Set the figure size to 10x6 inches\n",
    "plt.bar(top_10_posters.index, top_10_posters.values)\n",
    "plt.xlabel('Poster')\n",
    "plt.ylabel('Number of posts')\n",
    "plt.title('Top 10 posters in r/depression')\n",
    "\n",
    "# Rotate the x-axis labels by 45 degrees\n",
    "plt.xticks(rotation=90)\n",
    "\n",
    "# plot\n",
    "plt.show()"
   ]
  },
  {
   "cell_type": "markdown",
   "id": "aebfe6f3-eec7-493d-bcf7-8876a8668bb7",
   "metadata": {},
   "source": [
    "***Key Findings***:\n",
    "- Top posters on r/depression contributed about 4 posts in the top 1000.\n",
    "- It could suggest that the subreddit is more focused on discussion or community engagement rather than simply posting content, which may lead to fewer posts but more meaningful interactions."
   ]
  },
  {
   "cell_type": "code",
   "execution_count": null,
   "id": "17bb246a-8972-4955-8071-eeee328f9acc",
   "metadata": {},
   "outputs": [],
   "source": [
    "pd.set_option('display.max_colwidth', None)"
   ]
  },
  {
   "cell_type": "code",
   "execution_count": null,
   "id": "c06a1b41-764e-4c84-883e-1b408836d6b8",
   "metadata": {
    "scrolled": true,
    "tags": []
   },
   "outputs": [],
   "source": [
    "# Select the top poster\n",
    "top_poster = top_posters.index[0]\n",
    "\n",
    "# posts from top poster\n",
    "top_poster_posts = df_depression_praw[df_depression_praw['author'] == top_poster]"
   ]
  },
  {
   "cell_type": "code",
   "execution_count": null,
   "id": "6053649b-44d3-42a2-b033-92737eac8c44",
   "metadata": {
    "scrolled": true,
    "tags": []
   },
   "outputs": [],
   "source": [
    "# Print the titles and self_text of the top posts by the top poster\n",
    "print(f\"Top posts by {top_poster}: \\n\")\n",
    "for index, row in top_poster_posts[['title', 'selftext']].iterrows():\n",
    "    print(f\"Title: {row['title']}\")\n",
    "    print(f\"Self Text: {row['selftext']}\")\n",
    "    print()"
   ]
  },
  {
   "cell_type": "code",
   "execution_count": null,
   "id": "d5b71f81-4d11-4f49-9ad1-f89ee33f418e",
   "metadata": {},
   "outputs": [],
   "source": [
    "# Reset the maximum column width to its default value\n",
    "pd.reset_option('display.max_colwidth')"
   ]
  },
  {
   "cell_type": "markdown",
   "id": "069fb22d-39c0-4b3e-b288-096099ff87cc",
   "metadata": {},
   "source": [
    "## Sentiment Analysis of Top 1000 posts for both r/depression and r/anxiety"
   ]
  },
  {
   "cell_type": "code",
   "execution_count": null,
   "id": "cf294606-a28d-43bb-9ff7-6a8f0801564b",
   "metadata": {},
   "outputs": [],
   "source": [
    "# create a SentimentIntensityAnalyzer object\n",
    "sid = SentimentIntensityAnalyzer()"
   ]
  },
  {
   "cell_type": "code",
   "execution_count": null,
   "id": "21721697-ed84-4957-b928-4ba480ab9def",
   "metadata": {},
   "outputs": [],
   "source": [
    "# perform sentiment analysis for both subreddits using VADER\n",
    "df_depression_praw['sentiment'] = df_depression_praw['title_selftext_comb_clean_lem'].apply(lambda x: sid.polarity_scores(x)['compound'])\n",
    "df_anxiety_praw['sentiment'] = df_anxiety_praw['title_selftext_comb_clean_lem'].apply(lambda x: sid.polarity_scores(x)['compound'])"
   ]
  },
  {
   "cell_type": "code",
   "execution_count": null,
   "id": "f1e4d8ed-aa97-47f0-8fd8-39ee5731168c",
   "metadata": {},
   "outputs": [],
   "source": [
    "# get the mean sentiment scores for both subreddits\n",
    "mean_sentiment_depression = np.mean(df_depression_praw['sentiment'])\n",
    "mean_sentiment_anxiety = np.mean(df_anxiety_praw['sentiment'])"
   ]
  },
  {
   "cell_type": "code",
   "execution_count": null,
   "id": "e391f83a-8a58-46be-ba2f-f54e20b9288a",
   "metadata": {},
   "outputs": [],
   "source": [
    "# create the side-by-side subplots\n",
    "fig, axs = plt.subplots(1, 2, figsize=(20, 8), sharey=True)\n",
    "\n",
    "n, bins, patches = axs[0].hist(df_depression_praw['sentiment'], bins=20, alpha=0.7)\n",
    "axs[0].axvline(mean_sentiment_depression, color='r', linestyle='--', linewidth=2)\n",
    "axs[0].text(0.95, 0.95, f\"Mean: {mean_sentiment_depression:.2f}\", transform=axs[0].transAxes,\n",
    "             ha='right', va='top', bbox=dict(facecolor='white', edgecolor='black', alpha=0.5), fontsize=12)\n",
    "axs[0].set_xlabel('Sentiment Score')\n",
    "axs[0].set_ylabel('Frequency')\n",
    "axs[0].set_title('Sentiment Analysis of r/depression')\n",
    "\n",
    "n, bins, patches = axs[1].hist(df_anxiety_praw['sentiment'], bins=20, alpha=0.7)\n",
    "axs[1].axvline(mean_sentiment_anxiety, color='r', linestyle='--', linewidth=2)\n",
    "axs[1].text(0.95, 0.95, f\"Mean: {mean_sentiment_anxiety:.2f}\", transform=axs[1].transAxes,\n",
    "             ha='right', va='top', bbox=dict(facecolor='white', edgecolor='black', alpha=0.5), fontsize=12)\n",
    "axs[1].set_xlabel('Sentiment Score')\n",
    "axs[1].set_title('Sentiment Analysis of r/anxiety')\n",
    "\n",
    "# Show the plot\n",
    "plt.show()"
   ]
  },
  {
   "cell_type": "markdown",
   "id": "a6ccbce0-6b3c-4d96-b828-65d590eb075d",
   "metadata": {},
   "source": [
    "***Key Findings***:\n",
    "- The mean sentiment score for r/depression is actually -0.17, while the mean sentiment score for r/anxiety is 0.03.\n",
    "- Majority of top posts on r/depression have a negative sentiment, with a mean sentiment score of around -0.17. This suggests that the posts on this subreddit tend to be more negative in tone, which is expected given the nature of the subreddit.\n",
    "- r/anxiety shows that the sentiment scores are more evenly distributed around 0, with a mean sentiment score of around 0.03. This suggests that the posts on this subreddit have a more neutral sentiment overall, with both positive and negative posts being equally represented."
   ]
  },
  {
   "cell_type": "markdown",
   "id": "1c19e8de-5459-4f2a-ae7d-d6986016e628",
   "metadata": {},
   "source": [
    "### Sample positive and negative posts from r/depression"
   ]
  },
  {
   "cell_type": "code",
   "execution_count": null,
   "id": "6af722d6-288b-46a0-9ded-8a02368c5f6d",
   "metadata": {},
   "outputs": [],
   "source": [
    "highly_negative = df_depression_praw[df_depression_praw['sentiment'] < -0.9]"
   ]
  },
  {
   "cell_type": "code",
   "execution_count": null,
   "id": "c671a165-b16d-4878-ba03-cff551946fe7",
   "metadata": {},
   "outputs": [],
   "source": [
    "pd.set_option('display.max_colwidth', None)"
   ]
  },
  {
   "cell_type": "code",
   "execution_count": null,
   "id": "3a4cf64c-fa0a-4eaf-87e3-10adc1d137f6",
   "metadata": {
    "scrolled": true,
    "tags": []
   },
   "outputs": [],
   "source": [
    "highly_negative['selftext'].head(1)"
   ]
  },
  {
   "cell_type": "code",
   "execution_count": null,
   "id": "b7a428b5-c101-47c8-b397-a0151485f899",
   "metadata": {},
   "outputs": [],
   "source": [
    "highly_positive = df_depression_praw[df_depression_praw['sentiment'] > 0.9]"
   ]
  },
  {
   "cell_type": "code",
   "execution_count": null,
   "id": "64c34f02-51df-4679-83cd-4016afa7e0e0",
   "metadata": {
    "scrolled": true,
    "tags": []
   },
   "outputs": [],
   "source": [
    "highly_positive['selftext'].head(1)"
   ]
  },
  {
   "cell_type": "markdown",
   "id": "31bbaaa9-3166-4178-9050-a39342e29a69",
   "metadata": {},
   "source": [
    "### Sample positive and negative posts from r/anxiety"
   ]
  },
  {
   "cell_type": "code",
   "execution_count": null,
   "id": "561afe06-57b8-44e0-8553-e0548bf49011",
   "metadata": {},
   "outputs": [],
   "source": [
    "highly_negative = df_anxiety_praw[df_anxiety_praw['sentiment'] < -0.9]"
   ]
  },
  {
   "cell_type": "code",
   "execution_count": null,
   "id": "96b889e7-aabc-40ec-b9a1-491abde6ffda",
   "metadata": {
    "scrolled": true,
    "tags": []
   },
   "outputs": [],
   "source": [
    "highly_negative['selftext'].head(1)"
   ]
  },
  {
   "cell_type": "code",
   "execution_count": null,
   "id": "09b37879-f009-431e-96b7-903db9d86466",
   "metadata": {},
   "outputs": [],
   "source": [
    "highly_positive = df_anxiety_praw[df_anxiety_praw['sentiment'] > 0.9]"
   ]
  },
  {
   "cell_type": "code",
   "execution_count": null,
   "id": "449f4af3-fcdf-4f88-a5c2-5ff6d57f51a6",
   "metadata": {
    "scrolled": true,
    "tags": []
   },
   "outputs": [],
   "source": [
    "highly_positive['selftext'].head(1)"
   ]
  },
  {
   "cell_type": "markdown",
   "id": "fa01620b-02c0-49a9-b8b1-491a795a5db1",
   "metadata": {},
   "source": [
    "## Prepare for export"
   ]
  },
  {
   "cell_type": "code",
   "execution_count": null,
   "id": "df2d976e-f23a-4915-865c-96f9e8079911",
   "metadata": {},
   "outputs": [],
   "source": [
    "df_depression_praw['is_depression'] = 1"
   ]
  },
  {
   "cell_type": "code",
   "execution_count": null,
   "id": "88efdcaf-db4c-4997-99fc-411132978eee",
   "metadata": {},
   "outputs": [],
   "source": [
    "df_anxiety_praw['is_depression'] = 0"
   ]
  },
  {
   "cell_type": "markdown",
   "id": "5962cccd-f5c8-4a02-a719-d3b5772e170b",
   "metadata": {},
   "source": [
    "# Clean PSAW data to combine with PRAW"
   ]
  },
  {
   "cell_type": "code",
   "execution_count": null,
   "id": "01721235-c92d-4c30-a2ae-0e0af1b1c6cd",
   "metadata": {},
   "outputs": [],
   "source": [
    "df_depression_psaw = pd.read_csv('../datasets/depression_ps.csv')\n",
    "df_anxiety_psaw = pd.read_csv('../datasets/anxiety_ps.csv')"
   ]
  },
  {
   "cell_type": "code",
   "execution_count": null,
   "id": "56d8e595-4708-440d-83dc-105c0dfa2037",
   "metadata": {},
   "outputs": [],
   "source": [
    "# convert from unix timestamp to datetime format\n",
    "df_depression_psaw['created_utc'] = pd.to_datetime(df_depression_psaw['created_utc'], unit='s')"
   ]
  },
  {
   "cell_type": "code",
   "execution_count": null,
   "id": "3fbe24e4-a18d-4097-a9b4-c5f3ec05af27",
   "metadata": {},
   "outputs": [],
   "source": [
    "# convert from unix timestamp to datetime format\n",
    "df_anxiety_psaw['created_utc'] = pd.to_datetime(df_anxiety_psaw['created_utc'], unit='s')"
   ]
  },
  {
   "cell_type": "markdown",
   "id": "62205bfe-d02b-4c7c-87dc-97e7b8d2279a",
   "metadata": {},
   "source": [
    "## Data cleaning"
   ]
  },
  {
   "cell_type": "markdown",
   "id": "49e6d58c-15a8-4774-b5c8-619f23bc88a9",
   "metadata": {},
   "source": [
    "### Null values"
   ]
  },
  {
   "cell_type": "code",
   "execution_count": null,
   "id": "3bf76eac-73ae-48ee-80db-7047881d48bd",
   "metadata": {
    "scrolled": true,
    "tags": []
   },
   "outputs": [],
   "source": [
    "df_depression_psaw.isnull().sum()"
   ]
  },
  {
   "cell_type": "code",
   "execution_count": null,
   "id": "6b3cdafd-73a8-4758-8538-99e585a9d655",
   "metadata": {},
   "outputs": [],
   "source": [
    "# replace NaN values for distinguished\n",
    "df_depression_psaw['distinguished'].fillna(value='user', inplace=True)"
   ]
  },
  {
   "cell_type": "code",
   "execution_count": null,
   "id": "b7654bf9-688f-44ab-9d76-25b22da3c2b9",
   "metadata": {},
   "outputs": [],
   "source": [
    "df_anxiety_psaw.isnull().sum()"
   ]
  },
  {
   "cell_type": "code",
   "execution_count": null,
   "id": "8e4bc708-c3e9-4871-90bd-0fcf82671a4a",
   "metadata": {},
   "outputs": [],
   "source": [
    "df_anxiety_psaw['selftext'].fillna(value=' ', inplace=True)"
   ]
  },
  {
   "cell_type": "markdown",
   "id": "a5855680-b462-4b58-842c-23a93419cea7",
   "metadata": {},
   "source": [
    "## Create post_length feature"
   ]
  },
  {
   "cell_type": "code",
   "execution_count": null,
   "id": "ec5e730b-4475-403b-acfc-5096ec12a96d",
   "metadata": {},
   "outputs": [],
   "source": [
    "# length of each post\n",
    "df_depression_psaw['post_length'] = df_depression_praw['selftext'].str.len()\n",
    "df_anxiety_psaw['post_length'] = df_anxiety_praw['selftext'].str.len()"
   ]
  },
  {
   "cell_type": "code",
   "execution_count": null,
   "id": "a3b51718-ecdb-44ce-9040-af37ba8b16c3",
   "metadata": {},
   "outputs": [],
   "source": [
    "df_depression_psaw['is_depression'] = 1"
   ]
  },
  {
   "cell_type": "code",
   "execution_count": null,
   "id": "72ce46aa-4425-4cce-b666-e1b70c06e464",
   "metadata": {},
   "outputs": [],
   "source": [
    "df_anxiety_psaw['is_depression'] = 0"
   ]
  },
  {
   "cell_type": "markdown",
   "id": "95b05e76-df60-4551-a441-72cd14dff440",
   "metadata": {},
   "source": [
    "## Clean and Lemmatize Texts"
   ]
  },
  {
   "cell_type": "code",
   "execution_count": null,
   "id": "ae5cdf50-7098-454a-b2be-6e4854930b6d",
   "metadata": {},
   "outputs": [],
   "source": [
    "df_depression_psaw['title_selftext_comb'] = df_depression_psaw['title'] + ' ' + df_depression_psaw['selftext']\n",
    "df_anxiety_psaw['title_selftext_comb'] = df_anxiety_psaw['title'] + ' ' + df_anxiety_psaw['selftext']"
   ]
  },
  {
   "cell_type": "code",
   "execution_count": null,
   "id": "d8c6cfd3-0b76-4eb4-afd0-909fadfb6f1d",
   "metadata": {},
   "outputs": [],
   "source": [
    "df_depression_psaw['title_selftext_comb_clean'] = df_depression_psaw['title_selftext_comb'].apply(clean_text)"
   ]
  },
  {
   "cell_type": "code",
   "execution_count": null,
   "id": "68144bba-6492-4fce-a406-12c85afd20df",
   "metadata": {},
   "outputs": [],
   "source": [
    "df_anxiety_psaw['title_selftext_comb_clean'] = df_anxiety_psaw['title_selftext_comb'].apply(clean_text)"
   ]
  },
  {
   "cell_type": "code",
   "execution_count": null,
   "id": "b2f1f0b6-3b72-4919-be63-45d1b6c43a20",
   "metadata": {},
   "outputs": [],
   "source": [
    "df_depression_psaw['title_selftext_comb_clean_lem'] = df_depression_psaw['title_selftext_comb'].apply(lemmatize)"
   ]
  },
  {
   "cell_type": "code",
   "execution_count": null,
   "id": "9bf757d4-7aa7-4dec-a5c5-2f7a08cb5f71",
   "metadata": {},
   "outputs": [],
   "source": [
    "df_anxiety_psaw['title_selftext_comb_clean_lem'] = df_anxiety_psaw['title_selftext_comb'].apply(lemmatize)"
   ]
  },
  {
   "cell_type": "code",
   "execution_count": null,
   "id": "9c124118-1638-4ff4-aec7-2d6f0375593c",
   "metadata": {},
   "outputs": [],
   "source": [
    "df_depression_psaw['selftext_clean'] = df_depression_psaw['selftext'].apply(clean_text)"
   ]
  },
  {
   "cell_type": "code",
   "execution_count": null,
   "id": "371c70cb-9dd4-49c5-8d2f-d108c4f1b6c6",
   "metadata": {},
   "outputs": [],
   "source": [
    "df_anxiety_psaw['selftext_clean'] = df_depression_psaw['selftext'].apply(clean_text)"
   ]
  },
  {
   "cell_type": "markdown",
   "id": "bf554d99-a2b1-4389-9d6b-ae07eb266f37",
   "metadata": {},
   "source": [
    "## Sentiment labels"
   ]
  },
  {
   "cell_type": "code",
   "execution_count": null,
   "id": "4b6430c2-6dc6-49e0-99fa-7ff7aa5f9dec",
   "metadata": {},
   "outputs": [],
   "source": [
    "# perform sentiment analysis for both subreddits using VADER\n",
    "df_depression_psaw['sentiment'] = df_depression_psaw['title_selftext_comb_clean_lem'].apply(lambda x: sid.polarity_scores(x)['compound'])\n",
    "df_anxiety_psaw['sentiment'] = df_anxiety_psaw['title_selftext_comb_clean_lem'].apply(lambda x: sid.polarity_scores(x)['compound'])"
   ]
  },
  {
   "cell_type": "markdown",
   "id": "9c6f60f1-9221-4de7-833f-e67eed3e265c",
   "metadata": {},
   "source": [
    "# Combine all 4 dataframes to export for ML"
   ]
  },
  {
   "cell_type": "code",
   "execution_count": null,
   "id": "c7430d93-a9eb-4bf6-94fe-7059d6afdc40",
   "metadata": {},
   "outputs": [],
   "source": [
    "# df_depression_praw\n",
    "# df_anxiety_praw\n",
    "# df_depression_psaw\n",
    "# df_anxiety_psaw"
   ]
  },
  {
   "cell_type": "code",
   "execution_count": null,
   "id": "14cbd578-7dd1-4a03-b4f6-545d24ef49a8",
   "metadata": {},
   "outputs": [],
   "source": [
    "# check columns\n",
    "df_depression_praw.columns"
   ]
  },
  {
   "cell_type": "code",
   "execution_count": null,
   "id": "fd21f3da-4629-4bc5-95d0-13a55c834714",
   "metadata": {},
   "outputs": [],
   "source": [
    "df_anxiety_praw.columns"
   ]
  },
  {
   "cell_type": "code",
   "execution_count": null,
   "id": "66e98aad-fcca-4636-8e22-452114f5a363",
   "metadata": {},
   "outputs": [],
   "source": [
    "df_depression_psaw.columns"
   ]
  },
  {
   "cell_type": "code",
   "execution_count": null,
   "id": "c88dfc0e-791b-40f5-a0fc-96936f846677",
   "metadata": {},
   "outputs": [],
   "source": [
    "df_anxiety_psaw.columns"
   ]
  },
  {
   "cell_type": "code",
   "execution_count": null,
   "id": "a698c6b7-36ec-4978-9733-4899a4485a4a",
   "metadata": {},
   "outputs": [],
   "source": [
    "# concatenate the dataframes vertically\n",
    "df_combined = pd.concat([df_depression_praw, df_anxiety_praw, df_depression_psaw, df_anxiety_psaw], ignore_index=True)\n",
    "\n",
    "# remove duplicates\n",
    "df_combined.drop_duplicates(inplace=True)\n",
    "\n",
    "# export the dataframe to a CSV file\n",
    "pd.DataFrame(df_combined).to_csv('../datasets/ML.csv', index = False)"
   ]
  }
 ],
 "metadata": {
  "kernelspec": {
   "display_name": "Python 3 (ipykernel)",
   "language": "python",
   "name": "python3"
  },
  "language_info": {
   "codemirror_mode": {
    "name": "ipython",
    "version": 3
   },
   "file_extension": ".py",
   "mimetype": "text/x-python",
   "name": "python",
   "nbconvert_exporter": "python",
   "pygments_lexer": "ipython3",
   "version": "3.9.12"
  }
 },
 "nbformat": 4,
 "nbformat_minor": 5
}
